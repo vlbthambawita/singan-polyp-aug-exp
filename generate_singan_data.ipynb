{
 "cells": [
  {
   "cell_type": "code",
   "execution_count": 1,
   "metadata": {},
   "outputs": [],
   "source": [
    "from singan_polyp_aug import generate_data, prepare_requirements"
   ]
  },
  {
   "cell_type": "code",
   "execution_count": 2,
   "metadata": {},
   "outputs": [
    {
     "name": "stdout",
     "output_type": "stream",
     "text": [
      "Help on function prepare_checkpoints in module singan_polyp_aug.prepare_requirements:\n",
      "\n",
      "prepare_checkpoints(path_to_checkpoints: str, link_keys=['link1', 'link2', 'link3', 'link4'], *args, **kwargs) -> str\n",
      "\n"
     ]
    }
   ],
   "source": [
    "help(prepare_requirements.prepare_checkpoints)"
   ]
  },
  {
   "cell_type": "code",
   "execution_count": 7,
   "metadata": {},
   "outputs": [
    {
     "name": "stdout",
     "output_type": "stream",
     "text": [
      "/work/vajira/DL/singan-polyp-aug-exp\n",
      "/work/vajira/anaconda3/envs/pytorch-new/lib/python3.8/site-packages/singan_polyp_aug\n",
      "https://www.dropbox.com/s/19xq87x4xanuy4t/TrainedModels_1_clean.zip?dl=1\n",
      "The directory:/work/vajira/DATA/sinGAN_polyps/singan_test_2/TrainedModels_1_clean is already exists.\n",
      "https://www.dropbox.com/s/0i7io4tkpoccmq4/TrainedModels_2_clean.zip?dl=1\n",
      "The directory:/work/vajira/DATA/sinGAN_polyps/singan_test_2/TrainedModels_2_clean is already exists.\n",
      "https://www.dropbox.com/s/hsdpkifid9prtst/TrainedModels_3_clean.zip?dl=1\n",
      "The directory:/work/vajira/DATA/sinGAN_polyps/singan_test_2/TrainedModels_3_clean is already exists.\n",
      "https://www.dropbox.com/s/hzu470zcmy5ygf1/TrainedModels_4_clean.zip?dl=1\n",
      "The directory:/work/vajira/DATA/sinGAN_polyps/singan_test_2/TrainedModels_4_clean is already exists.\n"
     ]
    }
   ],
   "source": [
    "paths = prepare_requirements.prepare_checkpoints(\"/work/vajira/DATA/sinGAN_polyps/singan_test_2\", link_keys=[\"link1\", \"link2\", \"link3\", \"link4\"])"
   ]
  },
  {
   "cell_type": "code",
   "execution_count": 3,
   "metadata": {},
   "outputs": [
    {
     "name": "stdout",
     "output_type": "stream",
     "text": [
      "/work/vajira/DL/singan-polyp-aug-exp\n",
      "/work/vajira/anaconda3/envs/pytorch-new/lib/python3.8/site-packages/singan_polyp_aug\n",
      "https://www.dropbox.com/s/19xq87x4xanuy4t/TrainedModels_1_clean.zip?dl=1\n",
      "TrainedModels_1_clean.zip: 100%|██████████| 1.26G/1.26G [01:14<00:00, 18.2MB/s]\n",
      "Extracting TRUE...!\n",
      "=== Extracting files ===\n"
     ]
    },
    {
     "name": "stderr",
     "output_type": "stream",
     "text": [
      "100%|██████████| 2502/2502 [00:10<00:00, 234.41it/s]\n"
     ]
    },
    {
     "name": "stdout",
     "output_type": "stream",
     "text": [
      "https://www.dropbox.com/s/0i7io4tkpoccmq4/TrainedModels_2_clean.zip?dl=1\n",
      "TrainedModels_2_clean.zip: 100%|██████████| 1.24G/1.24G [00:57<00:00, 23.3MB/s]\n",
      "Extracting TRUE...!\n",
      "=== Extracting files ===\n"
     ]
    },
    {
     "name": "stderr",
     "output_type": "stream",
     "text": [
      "100%|██████████| 2502/2502 [00:10<00:00, 237.91it/s]\n",
      "  0%|          | 0/500 [00:00<?, ?it/s]"
     ]
    },
    {
     "name": "stdout",
     "output_type": "stream",
     "text": [
      "0\n"
     ]
    },
    {
     "name": "stderr",
     "output_type": "stream",
     "text": [
      "100%|██████████| 500/500 [00:58<00:00,  8.56it/s]\n"
     ]
    }
   ],
   "source": [
    "generate_data.generate_simple(\"/work/vajira/DATA/sinGAN_polyps/singan_test_2\", \"/work/vajira/DATA/sinGAN_polyps/singan_test_2\")"
   ]
  },
  {
   "cell_type": "code",
   "execution_count": null,
   "metadata": {},
   "outputs": [],
   "source": []
  }
 ],
 "metadata": {
  "kernelspec": {
   "display_name": "firstEnv",
   "language": "python",
   "name": "firstenv"
  },
  "language_info": {
   "codemirror_mode": {
    "name": "ipython",
    "version": 3
   },
   "file_extension": ".py",
   "mimetype": "text/x-python",
   "name": "python",
   "nbconvert_exporter": "python",
   "pygments_lexer": "ipython3",
   "version": "3.8.3"
  }
 },
 "nbformat": 4,
 "nbformat_minor": 2
}
