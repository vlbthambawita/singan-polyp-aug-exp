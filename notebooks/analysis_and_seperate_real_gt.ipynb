{
 "cells": [
  {
   "cell_type": "code",
   "execution_count": 1,
   "id": "9c853b67-df78-4ee2-ac06-d1c2f4f24223",
   "metadata": {},
   "outputs": [],
   "source": [
    "import os\n",
    "from PIL import Image\n",
    "import numpy as np\n",
    "import pandas as pd\n",
    "import seaborn as sns\n",
    "import matplotlib.pyplot as plt"
   ]
  },
  {
   "cell_type": "code",
   "execution_count": 2,
   "id": "db859b12-d7ea-46ff-ba46-6f8538f3c318",
   "metadata": {},
   "outputs": [],
   "source": [
    "%matplotlib inline"
   ]
  },
  {
   "cell_type": "code",
   "execution_count": 3,
   "id": "7899fa51-08af-410a-8a77-096bd0dea831",
   "metadata": {},
   "outputs": [],
   "source": [
    "real_mask_dir = \"/work/vajira/DATA/sinGAN_polyps/singan_test_2/real_masks\""
   ]
  },
  {
   "cell_type": "code",
   "execution_count": 4,
   "id": "0e93430b-2988-4eee-831a-2e31c52259d4",
   "metadata": {},
   "outputs": [],
   "source": [
    "out_csvs_dir = \"/work/vajira/DL/singan-polyp-aug-exp/new_csvs\""
   ]
  },
  {
   "cell_type": "code",
   "execution_count": 5,
   "id": "bbaa0ec9-653c-42aa-a498-cb420f706947",
   "metadata": {},
   "outputs": [],
   "source": [
    "masks = os.listdir(real_mask_dir)"
   ]
  },
  {
   "cell_type": "code",
   "execution_count": 6,
   "id": "972a7e1f-73a3-44be-b814-34c400929399",
   "metadata": {},
   "outputs": [],
   "source": [
    "test_mask = os.path.join(real_mask_dir, masks[0])"
   ]
  },
  {
   "cell_type": "code",
   "execution_count": 6,
   "id": "111bb06d-2661-4dae-bc71-af6caccfd465",
   "metadata": {},
   "outputs": [
    {
     "data": {
      "image/png": "[encoded data removed]",
      "text/plain": [
       "<PIL.JpegImagePlugin.JpegImageFile image mode=RGB size=615x520 at 0x7F75DC166580>"
      ]
     },
     "execution_count": 6,
     "metadata": {},
     "output_type": "execute_result"
    }
   ],
   "source": [
    "Image.open(test_mask)"
   ]
  },
  {
   "cell_type": "code",
   "execution_count": 7,
   "id": "7fc7284d-8cd4-4c40-90e3-26cb7d774272",
   "metadata": {},
   "outputs": [
    {
     "ename": "NameError",
     "evalue": "name 'img' is not defined",
     "output_type": "error",
     "traceback": [
      "\u001b[0;31m---------------------------------------------------------------------------\u001b[0m",
      "\u001b[0;31mNameError\u001b[0m                                 Traceback (most recent call last)",
      "\u001b[0;32m<ipython-input-7-32ad6cb7aa56>\u001b[0m in \u001b[0;36m<module>\u001b[0;34m\u001b[0m\n\u001b[0;32m----> 1\u001b[0;31m \u001b[0mimg\u001b[0m\u001b[0;34m.\u001b[0m\u001b[0mshape\u001b[0m\u001b[0;34m\u001b[0m\u001b[0;34m\u001b[0m\u001b[0m\n\u001b[0m",
      "\u001b[0;31mNameError\u001b[0m: name 'img' is not defined"
     ]
    }
   ],
   "source": [
    "img.shape"
   ]
  },
  {
   "cell_type": "code",
   "execution_count": 51,
   "id": "2d7aab3d-12fc-4c7b-8f22-bd17c9f41ed6",
   "metadata": {},
   "outputs": [],
   "source": [
    "img = Image.open(test_mask)"
   ]
  },
  {
   "cell_type": "code",
   "execution_count": 52,
   "id": "141abaa8-d21c-407d-b71f-1fc7be9d436e",
   "metadata": {},
   "outputs": [],
   "source": [
    "img = np.array(img) > 127"
   ]
  },
  {
   "cell_type": "code",
   "execution_count": 53,
   "id": "87588310-f346-4558-9fce-03d30629b79b",
   "metadata": {},
   "outputs": [
    {
     "data": {
      "text/plain": [
       "69107"
      ]
     },
     "execution_count": 53,
     "metadata": {},
     "output_type": "execute_result"
    }
   ],
   "source": [
    "np.array(img)[:,:,0].sum()"
   ]
  },
  {
   "cell_type": "code",
   "execution_count": 54,
   "id": "5ff92325-d1f3-4b86-b916-d200972077db",
   "metadata": {},
   "outputs": [
    {
     "data": {
      "text/plain": [
       "321594"
      ]
     },
     "execution_count": 54,
     "metadata": {},
     "output_type": "execute_result"
    }
   ],
   "source": [
    "np.array(img).shape[0] * np.array(img).shape[1]"
   ]
  },
  {
   "cell_type": "code",
   "execution_count": 55,
   "id": "e380639e-c0fe-4508-b422-2f01c9ea993c",
   "metadata": {},
   "outputs": [
    {
     "data": {
      "text/plain": [
       "21.488895937113256"
      ]
     },
     "execution_count": 55,
     "metadata": {},
     "output_type": "execute_result"
    }
   ],
   "source": [
    "(np.array(img)[:,:,0].sum()/(np.array(img).shape[0] * np.array(img).shape[1]))*100"
   ]
  },
  {
   "cell_type": "code",
   "execution_count": 56,
   "id": "612ead6a-af1b-431f-8c47-3b698f7e5d9a",
   "metadata": {},
   "outputs": [
    {
     "data": {
      "text/plain": [
       "69107"
      ]
     },
     "execution_count": 56,
     "metadata": {},
     "output_type": "execute_result"
    }
   ],
   "source": [
    "np.array(img)[:,:,2].sum()"
   ]
  },
  {
   "cell_type": "code",
   "execution_count": 57,
   "id": "f9f439b9-d82b-4f4d-ad07-4c3dea72ca53",
   "metadata": {},
   "outputs": [
    {
     "data": {
      "text/plain": [
       "31730853"
      ]
     },
     "execution_count": 57,
     "metadata": {},
     "output_type": "execute_result"
    }
   ],
   "source": [
    "10576951*3"
   ]
  },
  {
   "cell_type": "code",
   "execution_count": null,
   "id": "8b59fca2-a8db-44fa-99a2-e8f000313d82",
   "metadata": {},
   "outputs": [],
   "source": []
  },
  {
   "cell_type": "code",
   "execution_count": 7,
   "id": "4ac9293a-a80f-4939-95a1-bdb3e2a36698",
   "metadata": {},
   "outputs": [],
   "source": [
    "def analyse_mask(mask_dir):\n",
    "    \n",
    "    df = pd.DataFrame(columns=[\"mask_path\", \"height\", \"width\", \"resolution\", \"num_true_pixels\", \"true_pixel_per\"])\n",
    "    \n",
    "    masks = os.listdir(mask_dir)\n",
    "    \n",
    "    for mask in masks:\n",
    "        \n",
    "        record = {}\n",
    "        mask_path = os.path.join(mask_dir,mask)\n",
    "        img = Image.open(mask_path)\n",
    "        img = np.array(img)\n",
    "        img = img > 127 # get only True and False values\n",
    "        \n",
    "        img = img[:,:,0] # get only one channel\n",
    "        \n",
    "        height = img.shape[0]\n",
    "        width = img.shape[1]\n",
    "        \n",
    "        resolution= height * width\n",
    "        \n",
    "        true_pixels = img.sum()\n",
    "        \n",
    "        percentage = (true_pixels/resolution) * 100 \n",
    "        \n",
    "        record = {\"mask_path\": mask_path, \"height\": height, \"width\": width, \"resolution\": resolution, \"num_true_pixels\": true_pixels, \"true_pixel_per\": percentage}\n",
    "        \n",
    "        df = df.append(record, ignore_index=True)\n",
    "        \n",
    "    return df\n",
    "        \n",
    "        \n",
    "        "
   ]
  },
  {
   "cell_type": "code",
   "execution_count": 8,
   "id": "dd1ca7d5-dddc-42b3-bfc9-c9a7092a7938",
   "metadata": {},
   "outputs": [],
   "source": [
    "df_all = analyse_mask(real_mask_dir)"
   ]
  },
  {
   "cell_type": "code",
   "execution_count": 10,
   "id": "de2f6d9a-8337-45e7-aa64-e3d84465a363",
   "metadata": {},
   "outputs": [
    {
     "data": {
      "text/plain": [
       "<bound method NDFrame.head of                                              mask_path height width  \\\n",
       "0    /work/vajira/DATA/sinGAN_polyps/singan_test_2/...    520   615   \n",
       "1    /work/vajira/DATA/sinGAN_polyps/singan_test_2/...    547   626   \n",
       "2    /work/vajira/DATA/sinGAN_polyps/singan_test_2/...    505   577   \n",
       "3    /work/vajira/DATA/sinGAN_polyps/singan_test_2/...    530   562   \n",
       "4    /work/vajira/DATA/sinGAN_polyps/singan_test_2/...    528   622   \n",
       "..                                                 ...    ...   ...   \n",
       "995  /work/vajira/DATA/sinGAN_polyps/singan_test_2/...    546   626   \n",
       "996  /work/vajira/DATA/sinGAN_polyps/singan_test_2/...    531   529   \n",
       "997  /work/vajira/DATA/sinGAN_polyps/singan_test_2/...    528   621   \n",
       "998  /work/vajira/DATA/sinGAN_polyps/singan_test_2/...    529   614   \n",
       "999  /work/vajira/DATA/sinGAN_polyps/singan_test_2/...    528   595   \n",
       "\n",
       "    resolution num_true_pixels  true_pixel_per  \n",
       "0       319800           41478       12.969981  \n",
       "1       342422           58210       16.999492  \n",
       "2       291385           18732        6.428608  \n",
       "3       297860            3869        1.298932  \n",
       "4       328416            6310        1.921344  \n",
       "..         ...             ...             ...  \n",
       "995     341796           59189       17.317055  \n",
       "996     280899           31714       11.290179  \n",
       "997     327888           21242        6.478432  \n",
       "998     324806           39652       12.207903  \n",
       "999     314160            9680        3.081232  \n",
       "\n",
       "[1000 rows x 6 columns]>"
      ]
     },
     "execution_count": 10,
     "metadata": {},
     "output_type": "execute_result"
    }
   ],
   "source": [
    "df_all.head"
   ]
  },
  {
   "cell_type": "code",
   "execution_count": null,
   "id": "dc534e4b-83f9-4126-b862-97b1a56069d1",
   "metadata": {},
   "outputs": [],
   "source": []
  },
  {
   "cell_type": "code",
   "execution_count": 72,
   "id": "9c146e14-5cd1-4a2b-a86b-e74b50169b77",
   "metadata": {},
   "outputs": [],
   "source": [
    "def analyse_mask_from_csvs(csv_paths:list, amount_to_consider:int):\n",
    "    \n",
    "    df_mask_stat = pd.DataFrame(columns=[\"mask_path\", \"height\", \"width\", \"resolution\", \"num_true_pixels\", \"true_pixel_per\"])\n",
    "    \n",
    "    df_csvs = pd.DataFrame(columns=[\"image_path\", \"mask_path\"])\n",
    "    \n",
    "    for csv_path in csv_paths:\n",
    "        df_temp = pd.read_csv(csv_path)\n",
    "        df_csvs = df_csvs.append(df_temp, ignore_index=True)\n",
    "        \n",
    "    df_csvs = df_csvs[:amount_to_consider]\n",
    "    print(len(df_csvs))\n",
    "    \n",
    "    for mask_path in list(df_csvs[\"mask_path\"]):\n",
    "        \n",
    "        record = {}\n",
    "        #mask_path = os.path.join(mask_dir,mask)\n",
    "        img = Image.open(mask_path)\n",
    "        img = np.array(img)\n",
    "        img = img > 127 # get only True and False values\n",
    "        \n",
    "        img = img[:,:,0] # get only one channel\n",
    "        \n",
    "        height = img.shape[0]\n",
    "        width = img.shape[1]\n",
    "        \n",
    "        resolution= height * width\n",
    "        \n",
    "        true_pixels = img.sum()\n",
    "        \n",
    "        percentage = (true_pixels/resolution) * 100 \n",
    "        \n",
    "        record = {\"mask_path\": mask_path, \"height\": height, \"width\": width, \"resolution\": resolution, \"num_true_pixels\": true_pixels, \"true_pixel_per\": percentage}\n",
    "        \n",
    "        df_mask_stat = df_mask_stat.append(record, ignore_index=True)\n",
    "        \n",
    "    return df_mask_stat"
   ]
  },
  {
   "cell_type": "code",
   "execution_count": 73,
   "id": "09a05038-93d8-43c6-90de-5cbe0897dfb9",
   "metadata": {},
   "outputs": [
    {
     "name": "stdout",
     "output_type": "stream",
     "text": [
      "1000\n"
     ]
    },
    {
     "data": {
      "text/plain": [
       "<Figure size 2880x2880 with 0 Axes>"
      ]
     },
     "metadata": {},
     "output_type": "display_data"
    },
    {
     "data": {
      "image/png": "[encoded data removed]",
      "text/plain": [
       "<Figure size 360x360 with 1 Axes>"
      ]
     },
     "metadata": {
      "needs_background": "light"
     },
     "output_type": "display_data"
    }
   ],
   "source": [
    "df = analyse_mask_from_csvs([\"/work/vajira/DL/singan-polyp-aug-exp/notebooks/REAL_fold_0.csv\",\"/work/vajira/DL/singan-polyp-aug-exp/notebooks/REAL_fold_1.csv\", \"/work/vajira/DL/singan-polyp-aug-exp/notebooks/REAL_fold_2.csv\"], amount_to_consider=None)\n",
    "\n",
    "plt.figure(figsize=(40,40))\n",
    "sns_plt = sns.displot(df['true_pixel_per'],kde = False, bins=[i for i in range(0,100,5)])\n",
    "sns_plt.set(xlabel='True pixcel percentage', ylabel='Count')\n",
    "sns_plt.savefig(\"mask_pixel_distribution_all.pdf\")"
   ]
  },
  {
   "cell_type": "code",
   "execution_count": 74,
   "id": "d58059cb-519c-4cd3-9cc1-50206408ca42",
   "metadata": {},
   "outputs": [
    {
     "name": "stdout",
     "output_type": "stream",
     "text": [
      "666\n"
     ]
    },
    {
     "data": {
      "text/plain": [
       "<Figure size 2880x2880 with 0 Axes>"
      ]
     },
     "metadata": {},
     "output_type": "display_data"
    },
    {
     "data": {
      "image/png": "[encoded data removed]",
      "text/plain": [
       "<Figure size 360x360 with 1 Axes>"
      ]
     },
     "metadata": {
      "needs_background": "light"
     },
     "output_type": "display_data"
    }
   ],
   "source": [
    "df = analyse_mask_from_csvs([\"/work/vajira/DL/singan-polyp-aug-exp/notebooks/REAL_fold_1.csv\", \"/work/vajira/DL/singan-polyp-aug-exp/notebooks/REAL_fold_2.csv\"], amount_to_consider=None)\n",
    "\n",
    "plt.figure(figsize=(40,40))\n",
    "sns_plt = sns.displot(df['true_pixel_per'],kde = False, bins=[i for i in range(0,100,5)])\n",
    "sns_plt.set(xlabel='True pixcel percentage', ylabel='Count')\n",
    "sns_plt.savefig(\"mask_pixel_distribution_fold_1_and_2.pdf\")"
   ]
  },
  {
   "cell_type": "code",
   "execution_count": 75,
   "id": "78ff015e-5604-4a72-841f-4237cc2c45af",
   "metadata": {},
   "outputs": [
    {
     "name": "stdout",
     "output_type": "stream",
     "text": [
      "334\n"
     ]
    },
    {
     "data": {
      "text/plain": [
       "<Figure size 2880x2880 with 0 Axes>"
      ]
     },
     "metadata": {},
     "output_type": "display_data"
    },
    {
     "data": {
      "image/png": "[encoded data removed]",
      "text/plain": [
       "<Figure size 360x360 with 1 Axes>"
      ]
     },
     "metadata": {
      "needs_background": "light"
     },
     "output_type": "display_data"
    }
   ],
   "source": [
    "df = analyse_mask_from_csvs([\"/work/vajira/DL/singan-polyp-aug-exp/notebooks/REAL_fold_0.csv\"], amount_to_consider=None)\n",
    "\n",
    "plt.figure(figsize=(40,40))\n",
    "sns_plt = sns.displot(df['true_pixel_per'],kde = False, bins=[i for i in range(0,100,5)])\n",
    "sns_plt.set(xlabel='True pixcel percentage', ylabel='Count')\n",
    "sns_plt.savefig(\"mask_pixel_distribution_fold_0.pdf\")"
   ]
  },
  {
   "cell_type": "code",
   "execution_count": 76,
   "id": "631e768f-7567-424f-bc59-b71f61db957b",
   "metadata": {},
   "outputs": [
    {
     "name": "stdout",
     "output_type": "stream",
     "text": [
      "10\n"
     ]
    },
    {
     "data": {
      "text/plain": [
       "<Figure size 2880x2880 with 0 Axes>"
      ]
     },
     "metadata": {},
     "output_type": "display_data"
    },
    {
     "data": {
      "image/png": "[encoded data removed]",
      "text/plain": [
       "<Figure size 360x360 with 1 Axes>"
      ]
     },
     "metadata": {
      "needs_background": "light"
     },
     "output_type": "display_data"
    }
   ],
   "source": [
    "df = analyse_mask_from_csvs([\"/work/vajira/DL/singan-polyp-aug-exp/notebooks/REAL_fold_0.csv\"], amount_to_consider=10)\n",
    "\n",
    "plt.figure(figsize=(40,40))\n",
    "sns_plt = sns.displot(df['true_pixel_per'],kde = False, bins=[i for i in range(0,100,5)])\n",
    "sns_plt.set(xlabel='True pixcel percentage', ylabel='Count')\n",
    "sns_plt.savefig(\"mask_pixel_distribution_fold_0_10.pdf\")"
   ]
  },
  {
   "cell_type": "code",
   "execution_count": 77,
   "id": "cefdf2af-3919-44f5-b59f-67714acf0077",
   "metadata": {},
   "outputs": [],
   "source": [
    "#list(df.mask_path)"
   ]
  },
  {
   "cell_type": "code",
   "execution_count": 78,
   "id": "368da2b6-21fa-4693-936b-5d61a0b751b8",
   "metadata": {},
   "outputs": [
    {
     "name": "stdout",
     "output_type": "stream",
     "text": [
      "100\n"
     ]
    },
    {
     "data": {
      "text/plain": [
       "<Figure size 2880x2880 with 0 Axes>"
      ]
     },
     "metadata": {},
     "output_type": "display_data"
    },
    {
     "data": {
      "image/png": "[encoded data removed]",
      "text/plain": [
       "<Figure size 360x360 with 1 Axes>"
      ]
     },
     "metadata": {
      "needs_background": "light"
     },
     "output_type": "display_data"
    }
   ],
   "source": [
    "df = analyse_mask_from_csvs([\"/work/vajira/DL/singan-polyp-aug-exp/notebooks/FAKE_scale_0_num_img_10_ST_1to1000_selected_50_fold_0.csv\"], amount_to_consider=100)\n",
    "\n",
    "plt.figure(figsize=(40,40))\n",
    "sns_plt = sns.displot(df['true_pixel_per'],kde = False, bins=[i for i in range(0,100,5)])\n",
    "sns_plt.set(xlabel='True pixcel percentage', ylabel='Count')\n",
    "sns_plt.savefig(\"mask_pixel_distribution_FAKE_fold_0_100.pdf\")"
   ]
  },
  {
   "cell_type": "code",
   "execution_count": 79,
   "id": "c627b271-f96d-4528-bef5-5eada2fe3bf6",
   "metadata": {},
   "outputs": [],
   "source": [
    "#list(df.mask_path)"
   ]
  },
  {
   "cell_type": "code",
   "execution_count": 80,
   "id": "00dc4279-4903-40eb-aa01-1b7a09bb7cd3",
   "metadata": {},
   "outputs": [
    {
     "name": "stdout",
     "output_type": "stream",
     "text": [
      "20\n"
     ]
    },
    {
     "data": {
      "text/plain": [
       "<Figure size 2880x2880 with 0 Axes>"
      ]
     },
     "metadata": {},
     "output_type": "display_data"
    },
    {
     "data": {
      "image/png": "[encoded data removed]",
      "text/plain": [
       "<Figure size 360x360 with 1 Axes>"
      ]
     },
     "metadata": {
      "needs_background": "light"
     },
     "output_type": "display_data"
    }
   ],
   "source": [
    "df = analyse_mask_from_csvs([\"/work/vajira/DL/singan-polyp-aug-exp/notebooks/REAL_fold_0.csv\"], amount_to_consider=20)\n",
    "\n",
    "plt.figure(figsize=(40,40))\n",
    "sns_plt = sns.displot(df['true_pixel_per'],kde = False, bins=[i for i in range(0,100,5)])\n",
    "sns_plt.set(xlabel='True pixcel percentage', ylabel='Count')\n",
    "sns_plt.savefig(\"mask_pixel_distribution_fold_0_20.pdf\")"
   ]
  },
  {
   "cell_type": "code",
   "execution_count": 81,
   "id": "05ee66c2-67e4-4a5b-ac0b-c8d937efefb6",
   "metadata": {},
   "outputs": [
    {
     "name": "stdout",
     "output_type": "stream",
     "text": [
      "200\n"
     ]
    },
    {
     "data": {
      "text/plain": [
       "<Figure size 2880x2880 with 0 Axes>"
      ]
     },
     "metadata": {},
     "output_type": "display_data"
    },
    {
     "data": {
      "image/png": "[encoded data removed]",
      "text/plain": [
       "<Figure size 360x360 with 1 Axes>"
      ]
     },
     "metadata": {
      "needs_background": "light"
     },
     "output_type": "display_data"
    }
   ],
   "source": [
    "df = analyse_mask_from_csvs([\"/work/vajira/DL/singan-polyp-aug-exp/notebooks/FAKE_scale_0_num_img_10_ST_1to1000_selected_50_fold_0.csv\"], amount_to_consider=200)\n",
    "\n",
    "plt.figure(figsize=(40,40))\n",
    "sns_plt = sns.displot(df['true_pixel_per'],kde = False, bins=[i for i in range(0,100,5)])\n",
    "sns_plt.set(xlabel='True pixcel percentage', ylabel='Count')\n",
    "sns_plt.savefig(\"mask_pixel_distribution_FAKE_fold_0_200.pdf\")"
   ]
  },
  {
   "cell_type": "code",
   "execution_count": 82,
   "id": "7ae7ac7a-264b-4747-84ef-34b869627a68",
   "metadata": {},
   "outputs": [
    {
     "name": "stdout",
     "output_type": "stream",
     "text": [
      "30\n"
     ]
    },
    {
     "data": {
      "text/plain": [
       "<Figure size 2880x2880 with 0 Axes>"
      ]
     },
     "metadata": {},
     "output_type": "display_data"
    },
    {
     "data": {
      "image/png": "[encoded data removed]",
      "text/plain": [
       "<Figure size 360x360 with 1 Axes>"
      ]
     },
     "metadata": {
      "needs_background": "light"
     },
     "output_type": "display_data"
    }
   ],
   "source": [
    "df = analyse_mask_from_csvs([\"/work/vajira/DL/singan-polyp-aug-exp/notebooks/REAL_fold_0.csv\"], amount_to_consider=30)\n",
    "\n",
    "plt.figure(figsize=(40,40))\n",
    "sns_plt = sns.displot(df['true_pixel_per'],kde = False, bins=[i for i in range(0,100,5)])\n",
    "sns_plt.set(xlabel='True pixcel percentage', ylabel='Count')\n",
    "sns_plt.savefig(\"mask_pixel_distribution_fold_0_30.pdf\")"
   ]
  },
  {
   "cell_type": "code",
   "execution_count": 83,
   "id": "199f35da-6519-4cd3-b3ad-d419be8df8fe",
   "metadata": {},
   "outputs": [
    {
     "name": "stdout",
     "output_type": "stream",
     "text": [
      "300\n"
     ]
    },
    {
     "data": {
      "text/plain": [
       "<Figure size 2880x2880 with 0 Axes>"
      ]
     },
     "metadata": {},
     "output_type": "display_data"
    },
    {
     "data": {
      "image/png": "[encoded data removed]",
      "text/plain": [
       "<Figure size 360x360 with 1 Axes>"
      ]
     },
     "metadata": {
      "needs_background": "light"
     },
     "output_type": "display_data"
    }
   ],
   "source": [
    "df = analyse_mask_from_csvs([\"/work/vajira/DL/singan-polyp-aug-exp/notebooks/FAKE_scale_0_num_img_10_ST_1to1000_selected_50_fold_0.csv\"], amount_to_consider=300)\n",
    "\n",
    "plt.figure(figsize=(40,40))\n",
    "sns_plt = sns.displot(df['true_pixel_per'],kde = False, bins=[i for i in range(0,100,5)])\n",
    "sns_plt.set(xlabel='True pixcel percentage', ylabel='Count')\n",
    "sns_plt.savefig(\"mask_pixel_distribution_FAKE_fold_0_300.pdf\")"
   ]
  },
  {
   "cell_type": "code",
   "execution_count": 84,
   "id": "ae7fde9c-aa30-43c5-b074-2d17f9af471a",
   "metadata": {},
   "outputs": [
    {
     "name": "stdout",
     "output_type": "stream",
     "text": [
      "40\n"
     ]
    },
    {
     "data": {
      "text/plain": [
       "<Figure size 2880x2880 with 0 Axes>"
      ]
     },
     "metadata": {},
     "output_type": "display_data"
    },
    {
     "data": {
      "image/png": "[encoded data removed]",
      "text/plain": [
       "<Figure size 360x360 with 1 Axes>"
      ]
     },
     "metadata": {
      "needs_background": "light"
     },
     "output_type": "display_data"
    }
   ],
   "source": [
    "df = analyse_mask_from_csvs([\"/work/vajira/DL/singan-polyp-aug-exp/notebooks/REAL_fold_0.csv\"], amount_to_consider=40)\n",
    "\n",
    "plt.figure(figsize=(40,40))\n",
    "sns_plt = sns.displot(df['true_pixel_per'],kde = False, bins=[i for i in range(0,100,5)])\n",
    "sns_plt.set(xlabel='True pixcel percentage', ylabel='Count')\n",
    "sns_plt.savefig(\"mask_pixel_distribution_fold_0_40.pdf\")"
   ]
  },
  {
   "cell_type": "code",
   "execution_count": 85,
   "id": "5e37732c-1df7-4617-b485-522b135cd7f0",
   "metadata": {},
   "outputs": [
    {
     "name": "stdout",
     "output_type": "stream",
     "text": [
      "400\n"
     ]
    },
    {
     "data": {
      "text/plain": [
       "<Figure size 2880x2880 with 0 Axes>"
      ]
     },
     "metadata": {},
     "output_type": "display_data"
    },
    {
     "data": {
      "image/png": "[encoded data removed]",
      "text/plain": [
       "<Figure size 360x360 with 1 Axes>"
      ]
     },
     "metadata": {
      "needs_background": "light"
     },
     "output_type": "display_data"
    }
   ],
   "source": [
    "df = analyse_mask_from_csvs([\"/work/vajira/DL/singan-polyp-aug-exp/notebooks/FAKE_scale_0_num_img_10_ST_1to1000_selected_50_fold_0.csv\"], amount_to_consider=400)\n",
    "\n",
    "plt.figure(figsize=(40,40))\n",
    "sns_plt = sns.displot(df['true_pixel_per'],kde = False, bins=[i for i in range(0,100,5)])\n",
    "sns_plt.set(xlabel='True pixcel percentage', ylabel='Count')\n",
    "sns_plt.savefig(\"mask_pixel_distribution_FAKE_fold_0_400.pdf\")"
   ]
  },
  {
   "cell_type": "code",
   "execution_count": 86,
   "id": "ac1cb805-462a-4a8b-a52e-370508df5f1f",
   "metadata": {},
   "outputs": [
    {
     "name": "stdout",
     "output_type": "stream",
     "text": [
      "50\n"
     ]
    },
    {
     "data": {
      "text/plain": [
       "<Figure size 2880x2880 with 0 Axes>"
      ]
     },
     "metadata": {},
     "output_type": "display_data"
    },
    {
     "data": {
      "image/png": "[encoded data removed]",
      "text/plain": [
       "<Figure size 360x360 with 1 Axes>"
      ]
     },
     "metadata": {
      "needs_background": "light"
     },
     "output_type": "display_data"
    }
   ],
   "source": [
    "df = analyse_mask_from_csvs([\"/work/vajira/DL/singan-polyp-aug-exp/notebooks/REAL_fold_0.csv\"], amount_to_consider=50)\n",
    "\n",
    "plt.figure(figsize=(40,40))\n",
    "sns_plt = sns.displot(df['true_pixel_per'],kde = False, bins=[i for i in range(0,100,5)])\n",
    "sns_plt.set(xlabel='True pixcel percentage', ylabel='Count')\n",
    "sns_plt.savefig(\"mask_pixel_distribution_fold_0_50.pdf\")"
   ]
  },
  {
   "cell_type": "code",
   "execution_count": 87,
   "id": "cae85c5a-8f3e-46a2-9eed-329b41e8f440",
   "metadata": {},
   "outputs": [
    {
     "name": "stdout",
     "output_type": "stream",
     "text": [
      "500\n"
     ]
    },
    {
     "data": {
      "text/plain": [
       "<Figure size 2880x2880 with 0 Axes>"
      ]
     },
     "metadata": {},
     "output_type": "display_data"
    },
    {
     "data": {
      "image/png": "[encoded data removed]",
      "text/plain": [
       "<Figure size 360x360 with 1 Axes>"
      ]
     },
     "metadata": {
      "needs_background": "light"
     },
     "output_type": "display_data"
    }
   ],
   "source": [
    "df = analyse_mask_from_csvs([\"/work/vajira/DL/singan-polyp-aug-exp/notebooks/FAKE_scale_0_num_img_10_ST_1to1000_selected_50_fold_0.csv\"], amount_to_consider=500)\n",
    "\n",
    "plt.figure(figsize=(40,40))\n",
    "sns_plt = sns.displot(df['true_pixel_per'],kde = False, bins=[i for i in range(0,100,5)])\n",
    "sns_plt.set(xlabel='True pixcel percentage', ylabel='Count')\n",
    "sns_plt.savefig(\"mask_pixel_distribution_FAKE_fold_0_500.pdf\")"
   ]
  },
  {
   "cell_type": "code",
   "execution_count": 19,
   "id": "9d2c6500-3566-4be9-8ba0-073e6522de7c",
   "metadata": {},
   "outputs": [],
   "source": [
    "#df_all.index.values"
   ]
  },
  {
   "cell_type": "code",
   "execution_count": 16,
   "id": "0786b431-e72b-48c8-ae5b-18a3aa09d738",
   "metadata": {},
   "outputs": [],
   "source": [
    "#ax = sns.barplot(x=\"true_pixel_per\",y=\"index\"  data=df_all)"
   ]
  },
  {
   "cell_type": "code",
   "execution_count": 11,
   "id": "b6be5a7d-0516-4770-8d65-d28d0f552a01",
   "metadata": {},
   "outputs": [],
   "source": [
    "#[i for i in range(0,105,5)]"
   ]
  },
  {
   "cell_type": "code",
   "execution_count": 18,
   "id": "6c0dff01-c33c-47ea-9a25-0dd2a9b9a3c3",
   "metadata": {},
   "outputs": [],
   "source": [
    "#import natsort"
   ]
  },
  {
   "cell_type": "code",
   "execution_count": 16,
   "id": "5b9c0136-3137-4aa4-bd13-7391aeb8d809",
   "metadata": {},
   "outputs": [],
   "source": [
    "df_sorted = df_all.sort_values(by=[\"mask_path\"])"
   ]
  },
  {
   "cell_type": "code",
   "execution_count": null,
   "id": "a3a8f964-e724-4066-b581-b1c4835c923c",
   "metadata": {},
   "outputs": [],
   "source": [
    "df_sorted.mask_apth ="
   ]
  },
  {
   "cell_type": "code",
   "execution_count": 17,
   "id": "a00865b4-4a3b-4891-8261-81d7467f6926",
   "metadata": {},
   "outputs": [
    {
     "data": {
      "text/plain": [
       "['/work/vajira/DATA/sinGAN_polyps/singan_test_2/real_masks/1.jpg',\n",
       " '/work/vajira/DATA/sinGAN_polyps/singan_test_2/real_masks/10.jpg',\n",
       " '/work/vajira/DATA/sinGAN_polyps/singan_test_2/real_masks/100.jpg',\n",
       " '/work/vajira/DATA/sinGAN_polyps/singan_test_2/real_masks/1000.jpg',\n",
       " '/work/vajira/DATA/sinGAN_polyps/singan_test_2/real_masks/101.jpg',\n",
       " '/work/vajira/DATA/sinGAN_polyps/singan_test_2/real_masks/102.jpg',\n",
       " '/work/vajira/DATA/sinGAN_polyps/singan_test_2/real_masks/103.jpg',\n",
       " '/work/vajira/DATA/sinGAN_polyps/singan_test_2/real_masks/104.jpg',\n",
       " '/work/vajira/DATA/sinGAN_polyps/singan_test_2/real_masks/105.jpg',\n",
       " '/work/vajira/DATA/sinGAN_polyps/singan_test_2/real_masks/106.jpg',\n",
       " '/work/vajira/DATA/sinGAN_polyps/singan_test_2/real_masks/107.jpg',\n",
       " '/work/vajira/DATA/sinGAN_polyps/singan_test_2/real_masks/108.jpg',\n",
       " '/work/vajira/DATA/sinGAN_polyps/singan_test_2/real_masks/109.jpg',\n",
       " '/work/vajira/DATA/sinGAN_polyps/singan_test_2/real_masks/11.jpg',\n",
       " '/work/vajira/DATA/sinGAN_polyps/singan_test_2/real_masks/110.jpg',\n",
       " '/work/vajira/DATA/sinGAN_polyps/singan_test_2/real_masks/111.jpg',\n",
       " '/work/vajira/DATA/sinGAN_polyps/singan_test_2/real_masks/112.jpg',\n",
       " '/work/vajira/DATA/sinGAN_polyps/singan_test_2/real_masks/113.jpg',\n",
       " '/work/vajira/DATA/sinGAN_polyps/singan_test_2/real_masks/114.jpg',\n",
       " '/work/vajira/DATA/sinGAN_polyps/singan_test_2/real_masks/115.jpg',\n",
       " '/work/vajira/DATA/sinGAN_polyps/singan_test_2/real_masks/116.jpg',\n",
       " '/work/vajira/DATA/sinGAN_polyps/singan_test_2/real_masks/117.jpg',\n",
       " '/work/vajira/DATA/sinGAN_polyps/singan_test_2/real_masks/118.jpg',\n",
       " '/work/vajira/DATA/sinGAN_polyps/singan_test_2/real_masks/119.jpg',\n",
       " '/work/vajira/DATA/sinGAN_polyps/singan_test_2/real_masks/12.jpg',\n",
       " '/work/vajira/DATA/sinGAN_polyps/singan_test_2/real_masks/120.jpg',\n",
       " '/work/vajira/DATA/sinGAN_polyps/singan_test_2/real_masks/121.jpg',\n",
       " '/work/vajira/DATA/sinGAN_polyps/singan_test_2/real_masks/122.jpg',\n",
       " '/work/vajira/DATA/sinGAN_polyps/singan_test_2/real_masks/123.jpg',\n",
       " '/work/vajira/DATA/sinGAN_polyps/singan_test_2/real_masks/124.jpg',\n",
       " '/work/vajira/DATA/sinGAN_polyps/singan_test_2/real_masks/125.jpg',\n",
       " '/work/vajira/DATA/sinGAN_polyps/singan_test_2/real_masks/126.jpg',\n",
       " '/work/vajira/DATA/sinGAN_polyps/singan_test_2/real_masks/127.jpg',\n",
       " '/work/vajira/DATA/sinGAN_polyps/singan_test_2/real_masks/128.jpg',\n",
       " '/work/vajira/DATA/sinGAN_polyps/singan_test_2/real_masks/129.jpg',\n",
       " '/work/vajira/DATA/sinGAN_polyps/singan_test_2/real_masks/13.jpg',\n",
       " '/work/vajira/DATA/sinGAN_polyps/singan_test_2/real_masks/130.jpg',\n",
       " '/work/vajira/DATA/sinGAN_polyps/singan_test_2/real_masks/131.jpg',\n",
       " '/work/vajira/DATA/sinGAN_polyps/singan_test_2/real_masks/132.jpg',\n",
       " '/work/vajira/DATA/sinGAN_polyps/singan_test_2/real_masks/133.jpg',\n",
       " '/work/vajira/DATA/sinGAN_polyps/singan_test_2/real_masks/134.jpg',\n",
       " '/work/vajira/DATA/sinGAN_polyps/singan_test_2/real_masks/135.jpg',\n",
       " '/work/vajira/DATA/sinGAN_polyps/singan_test_2/real_masks/136.jpg',\n",
       " '/work/vajira/DATA/sinGAN_polyps/singan_test_2/real_masks/137.jpg',\n",
       " '/work/vajira/DATA/sinGAN_polyps/singan_test_2/real_masks/138.jpg',\n",
       " '/work/vajira/DATA/sinGAN_polyps/singan_test_2/real_masks/139.jpg',\n",
       " '/work/vajira/DATA/sinGAN_polyps/singan_test_2/real_masks/14.jpg',\n",
       " '/work/vajira/DATA/sinGAN_polyps/singan_test_2/real_masks/140.jpg',\n",
       " '/work/vajira/DATA/sinGAN_polyps/singan_test_2/real_masks/141.jpg',\n",
       " '/work/vajira/DATA/sinGAN_polyps/singan_test_2/real_masks/142.jpg']"
      ]
     },
     "execution_count": 17,
     "metadata": {},
     "output_type": "execute_result"
    }
   ],
   "source": [
    "list(df_sorted[:50][\"mask_path\"])"
   ]
  },
  {
   "cell_type": "code",
   "execution_count": 31,
   "id": "090ba16a-077c-4991-a76b-58175eb185b1",
   "metadata": {},
   "outputs": [
    {
     "data": {
      "text/plain": [
       "<Figure size 2880x2880 with 0 Axes>"
      ]
     },
     "metadata": {},
     "output_type": "display_data"
    },
    {
     "data": {
      "image/png": "[encoded data removed]",
      "text/plain": [
       "<Figure size 360x360 with 1 Axes>"
      ]
     },
     "metadata": {
      "needs_background": "light"
     },
     "output_type": "display_data"
    }
   ],
   "source": [
    "plt.figure(figsize=(40,40))\n",
    "sns_plt = sns.displot(df_all['true_pixel_per'],kde = False, bins=[i for i in range(0,105,5)])\n",
    "sns_plt.set(xlabel='True pixcel percentage', ylabel='Count')\n",
    "sns_plt.savefig(\"mask_pixel_distribution.pdf\")"
   ]
  },
  {
   "cell_type": "code",
   "execution_count": null,
   "id": "1283505d-0e4e-4b92-bc1a-bd0350dcd900",
   "metadata": {},
   "outputs": [],
   "source": []
  },
  {
   "cell_type": "code",
   "execution_count": 48,
   "id": "65e855c0-968d-4ab0-919d-95a39fd4b201",
   "metadata": {},
   "outputs": [],
   "source": [
    "df_0_5 = df_all[df_all[\"true_pixel_per\"] < 5]\n",
    "df_0_5.to_csv(\"../new_csvs/df_0_5.csv\")"
   ]
  },
  {
   "cell_type": "code",
   "execution_count": 41,
   "id": "9b6c3443-4718-42dd-a805-61e9c674c3d9",
   "metadata": {},
   "outputs": [
    {
     "data": {
      "text/plain": [
       "200"
      ]
     },
     "execution_count": 41,
     "metadata": {},
     "output_type": "execute_result"
    }
   ],
   "source": [
    "len(df_0_5)"
   ]
  },
  {
   "cell_type": "code",
   "execution_count": null,
   "id": "c0c3b0bc-9850-4881-9e3f-73fe15e0e46b",
   "metadata": {},
   "outputs": [],
   "source": []
  },
  {
   "cell_type": "code",
   "execution_count": 42,
   "id": "d4edbfe7-fdb0-43bc-a510-573ca1d0af84",
   "metadata": {},
   "outputs": [],
   "source": [
    "df_5_10  = df_all[(df_all[\"true_pixel_per\"] > 5) & (df_all[\"true_pixel_per\"] <=10)]"
   ]
  },
  {
   "cell_type": "code",
   "execution_count": 43,
   "id": "31b4a678-d872-4421-9a38-6295f654cf34",
   "metadata": {},
   "outputs": [
    {
     "data": {
      "text/plain": [
       "234"
      ]
     },
     "execution_count": 43,
     "metadata": {},
     "output_type": "execute_result"
    }
   ],
   "source": [
    "len(df_5_10)"
   ]
  },
  {
   "cell_type": "code",
   "execution_count": 44,
   "id": "e553d29f-d6d3-4cb8-b44d-7f2e662d9604",
   "metadata": {},
   "outputs": [],
   "source": [
    "df_10_15  = df_all[(df_all[\"true_pixel_per\"] > 10) & (df_all[\"true_pixel_per\"] <=15)]"
   ]
  },
  {
   "cell_type": "code",
   "execution_count": 45,
   "id": "056a729b-3fed-44b3-bfdd-c623dfc6cb8f",
   "metadata": {},
   "outputs": [
    {
     "data": {
      "text/plain": [
       "189"
      ]
     },
     "execution_count": 45,
     "metadata": {},
     "output_type": "execute_result"
    }
   ],
   "source": [
    "len(df_10_15)"
   ]
  },
  {
   "cell_type": "code",
   "execution_count": 46,
   "id": "9443b3f4-0dd7-48a4-8e78-e2ebb4d7e77e",
   "metadata": {},
   "outputs": [],
   "source": [
    "df_15_20  = df_all[(df_all[\"true_pixel_per\"] > 15) & (df_all[\"true_pixel_per\"] <=20)]"
   ]
  },
  {
   "cell_type": "code",
   "execution_count": 47,
   "id": "18b80fb1-c99d-447a-9c66-a2c265e0ce52",
   "metadata": {},
   "outputs": [
    {
     "data": {
      "text/plain": [
       "111"
      ]
     },
     "execution_count": 47,
     "metadata": {},
     "output_type": "execute_result"
    }
   ],
   "source": [
    "len(df_15_20)"
   ]
  },
  {
   "cell_type": "code",
   "execution_count": null,
   "id": "432a8c94-51f5-4475-9b47-60fcbc441229",
   "metadata": {},
   "outputs": [],
   "source": []
  }
 ],
 "metadata": {
  "kernelspec": {
   "display_name": "pytorch18",
   "language": "python",
   "name": "pytorch18"
  },
  "language_info": {
   "codemirror_mode": {
    "name": "ipython",
    "version": 3
   },
   "file_extension": ".py",
   "mimetype": "text/x-python",
   "name": "python",
   "nbconvert_exporter": "python",
   "pygments_lexer": "ipython3",
   "version": "3.8.8"
  }
 },
 "nbformat": 4,
 "nbformat_minor": 5
}
