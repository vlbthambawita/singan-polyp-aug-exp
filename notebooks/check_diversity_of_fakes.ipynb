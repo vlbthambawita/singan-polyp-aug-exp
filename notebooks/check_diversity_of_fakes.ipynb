{
 "cells": [
  {
   "cell_type": "code",
   "execution_count": 19,
   "id": "5bc6b1a2-e1b1-4edb-be67-98ebe4116909",
   "metadata": {},
   "outputs": [],
   "source": [
    "import os\n",
    "import glob\n",
    "from natsort import natsorted\n",
    "from PIL import Image\n",
    "import numpy as np\n",
    "import matplotlib.pyplot as plt\n",
    "import pandas as pd\n",
    "from tqdm import tqdm\n",
    "import seaborn as sns"
   ]
  },
  {
   "cell_type": "code",
   "execution_count": 4,
   "id": "5d163a53-62bf-4c48-b8e9-d1e819a54fbb",
   "metadata": {},
   "outputs": [],
   "source": [
    "data_dir = \"/work/vajira/DATA/sinGAN_polyps/synthetic_polyps_and_masks_10k\""
   ]
  },
  {
   "cell_type": "code",
   "execution_count": 7,
   "id": "a0a02826-0330-4091-b913-5bc6634e0c0a",
   "metadata": {},
   "outputs": [],
   "source": [
    "paths = glob.glob(data_dir + \"/*_mask.png\")"
   ]
  },
  {
   "cell_type": "code",
   "execution_count": 22,
   "id": "92eb1861-677d-41af-8017-44fd04fa00fe",
   "metadata": {},
   "outputs": [],
   "source": [
    "#\n",
    "#paths"
   ]
  },
  {
   "cell_type": "code",
   "execution_count": 43,
   "id": "6e267c39-8162-48de-8c46-13e333a6de86",
   "metadata": {},
   "outputs": [],
   "source": [
    "sorted_paths = natsorted(paths)"
   ]
  },
  {
   "cell_type": "code",
   "execution_count": 44,
   "id": "4f4819d3-7e5b-4ee3-8e00-c329ccaca72e",
   "metadata": {},
   "outputs": [],
   "source": [
    "test_img = Image.open(sorted_paths[0])"
   ]
  },
  {
   "cell_type": "code",
   "execution_count": 45,
   "id": "c00a9e04-4566-4333-9c64-1f16af0bd332",
   "metadata": {},
   "outputs": [
    {
     "data": {
      "image/png": "[encoded data removed]",
      "text/plain": [
       "<PIL.PngImagePlugin.PngImageFile image mode=RGBA size=171x250 at 0x7F3D2D03EBB0>"
      ]
     },
     "execution_count": 45,
     "metadata": {},
     "output_type": "execute_result"
    }
   ],
   "source": [
    "test_img"
   ]
  },
  {
   "cell_type": "code",
   "execution_count": 46,
   "id": "b19cbb11-a7f8-4a9e-9cd1-689fe2c556df",
   "metadata": {},
   "outputs": [],
   "source": [
    "one_channel = np.array(test_img)[:,:,0]"
   ]
  },
  {
   "cell_type": "code",
   "execution_count": 47,
   "id": "e7efe3c4-2e72-4016-bda1-6a4d46dc1173",
   "metadata": {},
   "outputs": [
    {
     "data": {
      "text/plain": [
       "(250, 171)"
      ]
     },
     "execution_count": 47,
     "metadata": {},
     "output_type": "execute_result"
    }
   ],
   "source": [
    "one_channel.shape"
   ]
  },
  {
   "cell_type": "code",
   "execution_count": 48,
   "id": "f7c36301-0dfe-4922-b1fa-d1b76a8cad2d",
   "metadata": {},
   "outputs": [
    {
     "data": {
      "text/plain": [
       "<matplotlib.image.AxesImage at 0x7f3d2cf50f70>"
      ]
     },
     "execution_count": 48,
     "metadata": {},
     "output_type": "execute_result"
    },
    {
     "data": {
      "image/png": "[encoded data removed]",
      "text/plain": [
       "<Figure size 432x288 with 1 Axes>"
      ]
     },
     "metadata": {
      "needs_background": "light"
     },
     "output_type": "display_data"
    }
   ],
   "source": [
    "plt.imshow(one_channel, cmap=\"gray\")"
   ]
  },
  {
   "cell_type": "code",
   "execution_count": 16,
   "id": "c9d8198c-4ac8-4cb0-88bc-3d462c5090fb",
   "metadata": {},
   "outputs": [],
   "source": [
    "def analyse_mask_from_path_list(paths:list):\n",
    "    \n",
    "    df_mask_stat = pd.DataFrame(columns=[\"mask_path\", \"height\", \"width\", \"resolution\", \"num_true_pixels\", \"true_pixel_per\"])\n",
    "    \n",
    "    #df_csvs = pd.DataFrame(columns=[\"image_path\", \"mask_path\"])\n",
    "    \n",
    "   # for csv_path in csv_paths:\n",
    "    #    df_temp = pd.read_csv(csv_path)\n",
    "   #     df_csvs = df_csvs.append(df_temp, ignore_index=True)\n",
    "        \n",
    "    #df_csvs = df_csvs[:amount_to_consider]\n",
    "   # print(len(df_csvs))\n",
    "    \n",
    "    for mask_path in tqdm(paths):\n",
    "        \n",
    "        record = {}\n",
    "        #mask_path = os.path.join(mask_dir,mask)\n",
    "        img = Image.open(mask_path)\n",
    "        img = np.array(img)\n",
    "        img = img > 127 # get only True and False values\n",
    "        \n",
    "        img = img[:,:,0] # get only one channel\n",
    "        \n",
    "        height = img.shape[0]\n",
    "        width = img.shape[1]\n",
    "        \n",
    "        resolution= height * width\n",
    "        \n",
    "        true_pixels = img.sum()\n",
    "        \n",
    "        percentage = (true_pixels/resolution) * 100 \n",
    "        \n",
    "        record = {\"mask_path\": mask_path, \"height\": height, \"width\": width, \"resolution\": resolution, \"num_true_pixels\": true_pixels, \"true_pixel_per\": percentage}\n",
    "        \n",
    "        df_mask_stat = df_mask_stat.append(record, ignore_index=True)\n",
    "        \n",
    "    return df_mask_stat"
   ]
  },
  {
   "cell_type": "code",
   "execution_count": 17,
   "id": "9118ebef-111c-405e-87ed-e26db1af2dff",
   "metadata": {},
   "outputs": [
    {
     "name": "stderr",
     "output_type": "stream",
     "text": [
      "100%|██████████| 10000/10000 [00:23<00:00, 419.90it/s]\n"
     ]
    }
   ],
   "source": [
    "df_all_fakes = analyse_mask_from_path_list(paths)"
   ]
  },
  {
   "cell_type": "code",
   "execution_count": 20,
   "id": "bc706727-545f-4fcf-8c34-04e5c5cad77c",
   "metadata": {},
   "outputs": [
    {
     "data": {
      "text/plain": [
       "<Figure size 2880x2880 with 0 Axes>"
      ]
     },
     "metadata": {},
     "output_type": "display_data"
    },
    {
     "data": {
      "image/png": "[encoded data removed]",
      "text/plain": [
       "<Figure size 360x360 with 1 Axes>"
      ]
     },
     "metadata": {
      "needs_background": "light"
     },
     "output_type": "display_data"
    }
   ],
   "source": [
    "df = df_all_fakes\n",
    "\n",
    "plt.figure(figsize=(40,40))\n",
    "sns_plt = sns.displot(df['true_pixel_per'],kde = False, bins=[i for i in range(0,100,5)])\n",
    "sns_plt.set(xlabel='True pixcel percentage', ylabel='Count')\n",
    "sns_plt.savefig(\"mask_pixel_distribution_all_10k_fakes.pdf\")"
   ]
  },
  {
   "cell_type": "code",
   "execution_count": 23,
   "id": "bc8ff8bb-5ab9-4967-a4e8-9fca2fb780d9",
   "metadata": {},
   "outputs": [],
   "source": [
    "paths_id_1 = glob.glob(data_dir + \"/chk_id_1_*_mask.png\")"
   ]
  },
  {
   "cell_type": "code",
   "execution_count": 24,
   "id": "0f002891-e220-41bc-8ba3-8b28912e4e95",
   "metadata": {},
   "outputs": [
    {
     "data": {
      "text/plain": [
       "['/work/vajira/DATA/sinGAN_polyps/synthetic_polyps_and_masks_10k/chk_id_1_gen_scale_0_7_mask.png',\n",
       " '/work/vajira/DATA/sinGAN_polyps/synthetic_polyps_and_masks_10k/chk_id_1_gen_scale_0_4_mask.png',\n",
       " '/work/vajira/DATA/sinGAN_polyps/synthetic_polyps_and_masks_10k/chk_id_1_gen_scale_0_0_mask.png',\n",
       " '/work/vajira/DATA/sinGAN_polyps/synthetic_polyps_and_masks_10k/chk_id_1_gen_scale_0_8_mask.png',\n",
       " '/work/vajira/DATA/sinGAN_polyps/synthetic_polyps_and_masks_10k/chk_id_1_gen_scale_0_3_mask.png',\n",
       " '/work/vajira/DATA/sinGAN_polyps/synthetic_polyps_and_masks_10k/chk_id_1_gen_scale_0_6_mask.png',\n",
       " '/work/vajira/DATA/sinGAN_polyps/synthetic_polyps_and_masks_10k/chk_id_1_gen_scale_0_2_mask.png',\n",
       " '/work/vajira/DATA/sinGAN_polyps/synthetic_polyps_and_masks_10k/chk_id_1_gen_scale_0_9_mask.png',\n",
       " '/work/vajira/DATA/sinGAN_polyps/synthetic_polyps_and_masks_10k/chk_id_1_gen_scale_0_5_mask.png',\n",
       " '/work/vajira/DATA/sinGAN_polyps/synthetic_polyps_and_masks_10k/chk_id_1_gen_scale_0_1_mask.png']"
      ]
     },
     "execution_count": 24,
     "metadata": {},
     "output_type": "execute_result"
    }
   ],
   "source": [
    "paths_id_1"
   ]
  },
  {
   "cell_type": "code",
   "execution_count": 47,
   "id": "dd53c815-2c35-41ea-80e3-4a7508af021b",
   "metadata": {},
   "outputs": [],
   "source": [
    "def stack_masks(img_paths):\n",
    "    \n",
    "    all_masks = []\n",
    "    \n",
    "    for path in img_paths:\n",
    "        img = Image.open(path)\n",
    "        img_ch_0 = np.array(img)[:,:,0]\n",
    "        \n",
    "        all_masks.append(img_ch_0)\n",
    "        \n",
    "    stacked_masks = np.stack(all_masks, axis=2)\n",
    "        \n",
    "    #print(len(all_masks))\n",
    "    #print(stacked_masks.shape)\n",
    "    return stacked_masks"
   ]
  },
  {
   "cell_type": "code",
   "execution_count": 48,
   "id": "006b4821-4bf8-416f-ba8c-8e6ce5bb8d07",
   "metadata": {},
   "outputs": [],
   "source": [
    "stk_msks = stack_masks(paths_id_1)"
   ]
  },
  {
   "cell_type": "code",
   "execution_count": 49,
   "id": "6dd685d3-94fc-4033-b7c9-97d995fb76bb",
   "metadata": {},
   "outputs": [],
   "source": [
    "#stack_masks"
   ]
  },
  {
   "cell_type": "code",
   "execution_count": 51,
   "id": "f26047c9-6b6a-4c89-91fa-53fcf45f2e72",
   "metadata": {},
   "outputs": [],
   "source": [
    "#stk_msks"
   ]
  },
  {
   "cell_type": "code",
   "execution_count": 53,
   "id": "9f03dc17-c180-4397-ad2c-51aeb72db1a3",
   "metadata": {},
   "outputs": [],
   "source": [
    "mean = np.mean(stk_msks, axis=2)"
   ]
  },
  {
   "cell_type": "code",
   "execution_count": 92,
   "id": "0bc19380-6f50-4181-b370-e29463a81cc7",
   "metadata": {},
   "outputs": [
    {
     "data": {
      "image/png": "[encoded data removed]",
      "text/plain": [
       "<Figure size 432x288 with 1 Axes>"
      ]
     },
     "metadata": {},
     "output_type": "display_data"
    }
   ],
   "source": [
    "#plt.figure()\n",
    "ax = sns.heatmap(mean, vmin=0, vmax=255, xticklabels=False, yticklabels=False, cbar=False)\n",
    "\n",
    "fig = ax.get_figure()\n",
    "fig.savefig(\"mean_id_1.pdf\")\n"
   ]
  },
  {
   "cell_type": "code",
   "execution_count": 56,
   "id": "4661ee80-d85d-4f1b-b259-9ba3a9c7d1f3",
   "metadata": {},
   "outputs": [],
   "source": [
    "std = np.std(stk_msks, axis=2)"
   ]
  },
  {
   "cell_type": "code",
   "execution_count": 75,
   "id": "788b5aaa-5d1d-442f-b4c1-7e45f0448252",
   "metadata": {},
   "outputs": [
    {
     "data": {
      "image/png": "[encoded data removed]",
      "text/plain": [
       "<Figure size 432x288 with 1 Axes>"
      ]
     },
     "metadata": {},
     "output_type": "display_data"
    }
   ],
   "source": [
    "ax = sns.heatmap(std, vmin=0, vmax=255,  xticklabels=False, yticklabels=False, cbar=False)\n",
    "fig = ax.get_figure()\n",
    "fig.savefig(\"std_id_1.pdf\")"
   ]
  },
  {
   "cell_type": "code",
   "execution_count": 87,
   "id": "73765d54-34de-4a0e-a13d-03a7d254048f",
   "metadata": {},
   "outputs": [],
   "source": [
    "def plot_mean_and_std(img_id):\n",
    "    \n",
    "    paths = glob.glob(data_dir + f\"/chk_id_{img_id}_*_mask.png\")\n",
    "    stk_msks = stack_masks(paths)\n",
    "    \n",
    "    mean = np.mean(stk_msks, axis=2)\n",
    "    std = np.std(stk_msks, axis=2)\n",
    "    \n",
    "    ax = sns.heatmap(mean, vmin=0, vmax=255, xticklabels=False, yticklabels=False, cbar=False)\n",
    "    fig = ax.get_figure()\n",
    "    fig.savefig(f\"mean_id_{img_id}.pdf\")\n",
    "    \n",
    "    ax = sns.heatmap(std, vmin=0, vmax=255,  xticklabels=False, yticklabels=False, cbar=True)\n",
    "    fig = ax.get_figure()\n",
    "    fig.savefig(f\"std_id_{img_id}.pdf\")\n",
    "    \n",
    "    \n",
    "    "
   ]
  },
  {
   "cell_type": "code",
   "execution_count": 91,
   "id": "18b89b17-1918-4063-90a9-f4fa87bec322",
   "metadata": {},
   "outputs": [
    {
     "data": {
      "image/png": "[encoded data removed]",
      "text/plain": [
       "<Figure size 432x288 with 2 Axes>"
      ]
     },
     "metadata": {
      "needs_background": "light"
     },
     "output_type": "display_data"
    }
   ],
   "source": [
    "plot_mean_and_std(118)"
   ]
  },
  {
   "cell_type": "code",
   "execution_count": 76,
   "id": "a405a2ba-3c1a-4563-9789-c04931299951",
   "metadata": {},
   "outputs": [],
   "source": [
    "#list(std)"
   ]
  },
  {
   "cell_type": "code",
   "execution_count": null,
   "id": "9d98dd7a-fe90-4338-8996-4d9e1efe3644",
   "metadata": {},
   "outputs": [],
   "source": []
  }
 ],
 "metadata": {
  "kernelspec": {
   "display_name": "pytorch18",
   "language": "python",
   "name": "pytorch18"
  },
  "language_info": {
   "codemirror_mode": {
    "name": "ipython",
    "version": 3
   },
   "file_extension": ".py",
   "mimetype": "text/x-python",
   "name": "python",
   "nbconvert_exporter": "python",
   "pygments_lexer": "ipython3",
   "version": "3.8.8"
  }
 },
 "nbformat": 4,
 "nbformat_minor": 5
}
