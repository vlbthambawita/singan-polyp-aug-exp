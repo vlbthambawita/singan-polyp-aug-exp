{
 "cells": [
  {
   "cell_type": "code",
   "execution_count": 27,
   "id": "5bc6b1a2-e1b1-4edb-be67-98ebe4116909",
   "metadata": {},
   "outputs": [],
   "source": [
    "import os\n",
    "import glob\n",
    "from natsort import natsorted\n",
    "from PIL import Image\n",
    "import numpy as np\n",
    "import matplotlib.pyplot as plt"
   ]
  },
  {
   "cell_type": "code",
   "execution_count": 13,
   "id": "5d163a53-62bf-4c48-b8e9-d1e819a54fbb",
   "metadata": {},
   "outputs": [],
   "source": [
    "data_dir = \"/work/vajira/DATA/sinGAN_polyps/synthetic_polyps_and_masks_10k\""
   ]
  },
  {
   "cell_type": "code",
   "execution_count": 41,
   "id": "a0a02826-0330-4091-b913-5bc6634e0c0a",
   "metadata": {},
   "outputs": [],
   "source": [
    "paths = glob.glob(data_dir + \"/chk_id_100_*_mask.png\")"
   ]
  },
  {
   "cell_type": "code",
   "execution_count": 42,
   "id": "92eb1861-677d-41af-8017-44fd04fa00fe",
   "metadata": {},
   "outputs": [
    {
     "data": {
      "text/plain": [
       "['/work/vajira/DATA/sinGAN_polyps/synthetic_polyps_and_masks_10k/chk_id_100_gen_scale_0_9_mask.png',\n",
       " '/work/vajira/DATA/sinGAN_polyps/synthetic_polyps_and_masks_10k/chk_id_100_gen_scale_0_7_mask.png',\n",
       " '/work/vajira/DATA/sinGAN_polyps/synthetic_polyps_and_masks_10k/chk_id_100_gen_scale_0_6_mask.png',\n",
       " '/work/vajira/DATA/sinGAN_polyps/synthetic_polyps_and_masks_10k/chk_id_100_gen_scale_0_3_mask.png',\n",
       " '/work/vajira/DATA/sinGAN_polyps/synthetic_polyps_and_masks_10k/chk_id_100_gen_scale_0_2_mask.png',\n",
       " '/work/vajira/DATA/sinGAN_polyps/synthetic_polyps_and_masks_10k/chk_id_100_gen_scale_0_8_mask.png',\n",
       " '/work/vajira/DATA/sinGAN_polyps/synthetic_polyps_and_masks_10k/chk_id_100_gen_scale_0_4_mask.png',\n",
       " '/work/vajira/DATA/sinGAN_polyps/synthetic_polyps_and_masks_10k/chk_id_100_gen_scale_0_1_mask.png',\n",
       " '/work/vajira/DATA/sinGAN_polyps/synthetic_polyps_and_masks_10k/chk_id_100_gen_scale_0_5_mask.png',\n",
       " '/work/vajira/DATA/sinGAN_polyps/synthetic_polyps_and_masks_10k/chk_id_100_gen_scale_0_0_mask.png']"
      ]
     },
     "execution_count": 42,
     "metadata": {},
     "output_type": "execute_result"
    }
   ],
   "source": [
    "paths"
   ]
  },
  {
   "cell_type": "code",
   "execution_count": 43,
   "id": "6e267c39-8162-48de-8c46-13e333a6de86",
   "metadata": {},
   "outputs": [],
   "source": [
    "sorted_paths = natsorted(paths)"
   ]
  },
  {
   "cell_type": "code",
   "execution_count": 44,
   "id": "4f4819d3-7e5b-4ee3-8e00-c329ccaca72e",
   "metadata": {},
   "outputs": [],
   "source": [
    "test_img = Image.open(sorted_paths[0])"
   ]
  },
  {
   "cell_type": "code",
   "execution_count": 45,
   "id": "c00a9e04-4566-4333-9c64-1f16af0bd332",
   "metadata": {},
   "outputs": [
    {
     "data": {
      "image/png": "[encoded data removed]",
      "text/plain": [
       "<PIL.PngImagePlugin.PngImageFile image mode=RGBA size=171x250 at 0x7F3D2D03EBB0>"
      ]
     },
     "execution_count": 45,
     "metadata": {},
     "output_type": "execute_result"
    }
   ],
   "source": [
    "test_img"
   ]
  },
  {
   "cell_type": "code",
   "execution_count": 46,
   "id": "b19cbb11-a7f8-4a9e-9cd1-689fe2c556df",
   "metadata": {},
   "outputs": [],
   "source": [
    "one_channel = np.array(test_img)[:,:,0]"
   ]
  },
  {
   "cell_type": "code",
   "execution_count": 47,
   "id": "e7efe3c4-2e72-4016-bda1-6a4d46dc1173",
   "metadata": {},
   "outputs": [
    {
     "data": {
      "text/plain": [
       "(250, 171)"
      ]
     },
     "execution_count": 47,
     "metadata": {},
     "output_type": "execute_result"
    }
   ],
   "source": [
    "one_channel.shape"
   ]
  },
  {
   "cell_type": "code",
   "execution_count": 48,
   "id": "f7c36301-0dfe-4922-b1fa-d1b76a8cad2d",
   "metadata": {},
   "outputs": [
    {
     "data": {
      "text/plain": [
       "<matplotlib.image.AxesImage at 0x7f3d2cf50f70>"
      ]
     },
     "execution_count": 48,
     "metadata": {},
     "output_type": "execute_result"
    },
    {
     "data": {
      "image/png": "[encoded data removed]",
      "text/plain": [
       "<Figure size 432x288 with 1 Axes>"
      ]
     },
     "metadata": {
      "needs_background": "light"
     },
     "output_type": "display_data"
    }
   ],
   "source": [
    "plt.imshow(one_channel, cmap=\"gray\")"
   ]
  },
  {
   "cell_type": "code",
   "execution_count": null,
   "id": "dd53c815-2c35-41ea-80e3-4a7508af021b",
   "metadata": {},
   "outputs": [],
   "source": [
    "def stack_masks(img_id):\n",
    "    "
   ]
  }
 ],
 "metadata": {
  "kernelspec": {
   "display_name": "Python 3",
   "language": "python",
   "name": "python3"
  },
  "language_info": {
   "codemirror_mode": {
    "name": "ipython",
    "version": 3
   },
   "file_extension": ".py",
   "mimetype": "text/x-python",
   "name": "python",
   "nbconvert_exporter": "python",
   "pygments_lexer": "ipython3",
   "version": "3.8.8"
  }
 },
 "nbformat": 4,
 "nbformat_minor": 5
}
