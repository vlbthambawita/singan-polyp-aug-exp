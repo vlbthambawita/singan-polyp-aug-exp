{
 "cells": [
  {
   "cell_type": "code",
   "execution_count": 1,
   "metadata": {},
   "outputs": [],
   "source": [
    "import numpy as np\n",
    "import os\n",
    "import pandas as pd"
   ]
  },
  {
   "cell_type": "code",
   "execution_count": 2,
   "metadata": {},
   "outputs": [],
   "source": [
    "ids = [i for i in range(1,1001)]"
   ]
  },
  {
   "cell_type": "code",
   "execution_count": 3,
   "metadata": {},
   "outputs": [],
   "source": [
    "folds = np.array_split(ids, 3)"
   ]
  },
  {
   "cell_type": "code",
   "execution_count": 4,
   "metadata": {},
   "outputs": [
    {
     "data": {
      "text/plain": [
       "3"
      ]
     },
     "execution_count": 4,
     "metadata": {},
     "output_type": "execute_result"
    }
   ],
   "source": [
    "len(folds)"
   ]
  },
  {
   "cell_type": "markdown",
   "metadata": {},
   "source": [
    "## Make fold CSVs for real data"
   ]
  },
  {
   "cell_type": "code",
   "execution_count": 5,
   "metadata": {},
   "outputs": [],
   "source": [
    "img_dir = \"/work/vajira/DATA/sinGAN_polyps/singan_test_2/real_images\"\n",
    "mask_dir = \"/work/vajira/DATA/sinGAN_polyps/singan_test_2/real_masks\""
   ]
  },
  {
   "cell_type": "code",
   "execution_count": 6,
   "metadata": {},
   "outputs": [],
   "source": [
    "def make_df(img_dir, mask_dir, fold_ids):\n",
    "\n",
    "    df = pd.DataFrame(columns=[\"image_path\", \"mask_path\"])\n",
    "    \n",
    "    \n",
    "\n",
    "    for data_id in fold_ids:\n",
    "\n",
    "        img_path = os.path.join(img_dir, str(data_id) + \".jpg\")\n",
    "        mask_path = os.path.join(mask_dir, str(data_id) + \".jpg\")\n",
    "\n",
    "        if os.path.exists(img_path) and os.path.exists(mask_path):\n",
    "\n",
    "            df = df.append({\"image_path\": img_path,\n",
    "                            \"mask_path\": mask_path\n",
    "                            }, ignore_index=True)\n",
    "        else:\n",
    "            print(\"Found mismatch files\")\n",
    "            print(\"Image path=\", img_path)\n",
    "            print(\"mask_path\", mask_path)\n",
    "\n",
    "    return df"
   ]
  },
  {
   "cell_type": "code",
   "execution_count": 8,
   "metadata": {},
   "outputs": [],
   "source": [
    "def make_and_save_folds(img_dir, mask_dir, folds_id_array, basic_name=\"REAL\"):\n",
    "    \n",
    "    for f in range(len(folds_id_array)):\n",
    "        fold_ids = folds_id_array[f]\n",
    "        df = make_df(img_dir, mask_dir, fold_ids)\n",
    "        \n",
    "        df.to_csv(f\"{basic_name}_fold_{f}.csv\", index=False, header=True)"
   ]
  },
  {
   "cell_type": "code",
   "execution_count": 9,
   "metadata": {},
   "outputs": [],
   "source": [
    "make_and_save_folds(img_dir, mask_dir, folds, basic_name=\"REAL\")"
   ]
  },
  {
   "cell_type": "code",
   "execution_count": null,
   "metadata": {},
   "outputs": [],
   "source": []
  },
  {
   "cell_type": "code",
   "execution_count": 7,
   "metadata": {},
   "outputs": [],
   "source": [
    "#df = make_df(img_dir, mask_dir, folds[0])"
   ]
  },
  {
   "cell_type": "code",
   "execution_count": 14,
   "metadata": {},
   "outputs": [],
   "source": [
    "#df.to_csv(\"test.csv\",index=False, header=True)"
   ]
  },
  {
   "cell_type": "markdown",
   "metadata": {},
   "source": [
    "## Make fold CSVs for synthetic data"
   ]
  },
  {
   "cell_type": "code",
   "execution_count": 19,
   "metadata": {},
   "outputs": [],
   "source": [
    "src_dir = \"/work/vajira/DATA/sinGAN_polyps/singan_out\"\n"
   ]
  },
  {
   "cell_type": "code",
   "execution_count": 20,
   "metadata": {},
   "outputs": [],
   "source": [
    "def make_df_from_synthetic(src_dir, fold_ids, scales = [0, 1], num_samples_per_img=2):\n",
    "    \n",
    "    df = pd.DataFrame(columns=[\"image_path\", \"mask_path\"])\n",
    "    \n",
    "    \n",
    "    for data_id in fold_ids:\n",
    "        \n",
    "        for n in range(num_samples_per_img):\n",
    "            \n",
    "            for scale in scales:\n",
    "                \n",
    "                img_path = f\"{src_dir}/chk_id_{data_id}_gen_scale_{scale}_{n}_img.png\"\n",
    "                mask_path = f\"{src_dir}/chk_id_{data_id}_gen_scale_{scale}_{n}_mask.png\"\n",
    "                \n",
    "                \n",
    "                if os.path.exists(img_path) and os.path.exists(mask_path):\n",
    "                    \n",
    "                    df = df.append({\"image_path\": img_path,\n",
    "                            \"mask_path\": mask_path\n",
    "                            }, ignore_index=True)\n",
    "                else:\n",
    "                    print(\"Found mismatch files\")\n",
    "                    print(\"Image path=\", img_path)\n",
    "                    print(\"mask_path\", mask_path)\n",
    "                    \n",
    "    return df\n",
    "    \n",
    "    "
   ]
  },
  {
   "cell_type": "code",
   "execution_count": 23,
   "metadata": {},
   "outputs": [],
   "source": [
    "def make_and_save_folds_synth(src_dir, folds_id_array, scales = [0], num_samples_per_img=1, basic_name=\"FAKE_scale_0_num_img_1\"):\n",
    "    \n",
    "    for f in range(len(folds_id_array)):\n",
    "        fold_ids = folds_id_array[f]\n",
    "        df = make_df_from_synthetic(src_dir, fold_ids, scales, num_samples_per_img)\n",
    "        \n",
    "        df.to_csv(f\"{basic_name}_fold_{f}.csv\", index=False, header=True)"
   ]
  },
  {
   "cell_type": "code",
   "execution_count": 24,
   "metadata": {},
   "outputs": [],
   "source": [
    "make_and_save_folds_synth(src_dir, folds)"
   ]
  },
  {
   "cell_type": "code",
   "execution_count": 15,
   "metadata": {},
   "outputs": [],
   "source": [
    "#df =make_df_from_synthetic(src_dir, folds[0])"
   ]
  },
  {
   "cell_type": "code",
   "execution_count": 16,
   "metadata": {},
   "outputs": [],
   "source": [
    "#df"
   ]
  },
  {
   "cell_type": "code",
   "execution_count": 17,
   "metadata": {},
   "outputs": [],
   "source": [
    "#df.to_csv(\"test_2.csv\",index=False, header=True)"
   ]
  },
  {
   "cell_type": "code",
   "execution_count": null,
   "metadata": {},
   "outputs": [],
   "source": []
  }
 ],
 "metadata": {
  "kernelspec": {
   "display_name": "firstEnv",
   "language": "python",
   "name": "firstenv"
  },
  "language_info": {
   "codemirror_mode": {
    "name": "ipython",
    "version": 3
   },
   "file_extension": ".py",
   "mimetype": "text/x-python",
   "name": "python",
   "nbconvert_exporter": "python",
   "pygments_lexer": "ipython3",
   "version": "3.8.3"
  }
 },
 "nbformat": 4,
 "nbformat_minor": 4
}
