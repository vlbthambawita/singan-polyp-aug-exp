{
 "cells": [
  {
   "cell_type": "code",
   "execution_count": 1,
   "metadata": {},
   "outputs": [],
   "source": [
    "import numpy as np\n",
    "import os\n",
    "import pandas as pd\n",
    "from tqdm import tqdm"
   ]
  },
  {
   "cell_type": "code",
   "execution_count": 4,
   "metadata": {},
   "outputs": [],
   "source": [
    "ids = [i for i in range(1,51)]"
   ]
  },
  {
   "cell_type": "code",
   "execution_count": 5,
   "metadata": {},
   "outputs": [],
   "source": [
    "folds = np.array_split(ids, 1)"
   ]
  },
  {
   "cell_type": "code",
   "execution_count": 6,
   "metadata": {},
   "outputs": [
    {
     "data": {
      "text/plain": [
       "1"
      ]
     },
     "execution_count": 6,
     "metadata": {},
     "output_type": "execute_result"
    }
   ],
   "source": [
    "len(folds)"
   ]
  },
  {
   "cell_type": "code",
   "execution_count": 7,
   "metadata": {},
   "outputs": [
    {
     "data": {
      "text/plain": [
       "[array([ 1,  2,  3,  4,  5,  6,  7,  8,  9, 10, 11, 12, 13, 14, 15, 16, 17,\n",
       "        18, 19, 20, 21, 22, 23, 24, 25, 26, 27, 28, 29, 30, 31, 32, 33, 34,\n",
       "        35, 36, 37, 38, 39, 40, 41, 42, 43, 44, 45, 46, 47, 48, 49, 50])]"
      ]
     },
     "execution_count": 7,
     "metadata": {},
     "output_type": "execute_result"
    }
   ],
   "source": [
    "folds"
   ]
  },
  {
   "cell_type": "markdown",
   "metadata": {},
   "source": [
    "## Make fold CSVs for real data"
   ]
  },
  {
   "cell_type": "code",
   "execution_count": 5,
   "metadata": {},
   "outputs": [],
   "source": [
    "img_dir = \"/work/vajira/DATA/sinGAN_polyps/singan_test_2/real_images\"\n",
    "mask_dir = \"/work/vajira/DATA/sinGAN_polyps/singan_test_2/real_masks\""
   ]
  },
  {
   "cell_type": "code",
   "execution_count": 6,
   "metadata": {},
   "outputs": [],
   "source": [
    "def make_df(img_dir, mask_dir, fold_ids):\n",
    "\n",
    "    df = pd.DataFrame(columns=[\"image_path\", \"mask_path\"])\n",
    "    \n",
    "    \n",
    "\n",
    "    for data_id in fold_ids:\n",
    "\n",
    "        img_path = os.path.join(img_dir, str(data_id) + \".jpg\")\n",
    "        mask_path = os.path.join(mask_dir, str(data_id) + \".jpg\")\n",
    "\n",
    "        if os.path.exists(img_path) and os.path.exists(mask_path):\n",
    "\n",
    "            df = df.append({\"image_path\": img_path,\n",
    "                            \"mask_path\": mask_path\n",
    "                            }, ignore_index=True)\n",
    "        else:\n",
    "            print(\"Found mismatch files\")\n",
    "            print(\"Image path=\", img_path)\n",
    "            print(\"mask_path\", mask_path)\n",
    "\n",
    "    return df"
   ]
  },
  {
   "cell_type": "code",
   "execution_count": 8,
   "metadata": {},
   "outputs": [],
   "source": [
    "def make_and_save_folds(img_dir, mask_dir, folds_id_array, basic_name=\"REAL\"):\n",
    "    \n",
    "    for f in range(len(folds_id_array)):\n",
    "        fold_ids = folds_id_array[f]\n",
    "        df = make_df(img_dir, mask_dir, fold_ids)\n",
    "        \n",
    "        df.to_csv(f\"{basic_name}_fold_{f}.csv\", index=False, header=True)"
   ]
  },
  {
   "cell_type": "code",
   "execution_count": 9,
   "metadata": {},
   "outputs": [],
   "source": [
    "make_and_save_folds(img_dir, mask_dir, folds, basic_name=\"REAL\")"
   ]
  },
  {
   "cell_type": "markdown",
   "metadata": {},
   "source": [
    "## Make CSVs for 5 images builds"
   ]
  },
  {
   "cell_type": "code",
   "execution_count": null,
   "metadata": {},
   "outputs": [],
   "source": []
  },
  {
   "cell_type": "code",
   "execution_count": 7,
   "metadata": {},
   "outputs": [],
   "source": [
    "#df = make_df(img_dir, mask_dir, folds[0])"
   ]
  },
  {
   "cell_type": "code",
   "execution_count": 14,
   "metadata": {},
   "outputs": [],
   "source": [
    "#df.to_csv(\"test.csv\",index=False, header=True)"
   ]
  },
  {
   "cell_type": "markdown",
   "metadata": {},
   "source": [
    "## MAKE CVC-clinicdb csvs"
   ]
  },
  {
   "cell_type": "code",
   "execution_count": 2,
   "metadata": {},
   "outputs": [],
   "source": [
    "img_dir = \"/work/vajira/DATA/sinGAN_polyps/cvc_clinic_db/CVC-ClinicDB/Original\"\n",
    "mask_dir = \"/work/vajira/DATA/sinGAN_polyps/cvc_clinic_db/CVC-ClinicDB/ground_truth\""
   ]
  },
  {
   "cell_type": "code",
   "execution_count": 3,
   "metadata": {},
   "outputs": [],
   "source": [
    "from skimage import io"
   ]
  },
  {
   "cell_type": "code",
   "execution_count": 4,
   "metadata": {},
   "outputs": [],
   "source": [
    "def make_df(img_dir, mask_dir):\n",
    "\n",
    "    df = pd.DataFrame(columns=[\"image_path\", \"mask_path\"])\n",
    "    \n",
    "    \n",
    "\n",
    "    for img_name in tqdm(os.listdir(img_dir)):\n",
    "\n",
    "        img_path = os.path.join(img_dir, str(img_name))\n",
    "        mask_path = os.path.join(mask_dir, str(img_name))\n",
    "        \n",
    "        # converting tif to png\n",
    "        img = io.imread(img_path)\n",
    "        mask = io.imread(mask_path)\n",
    "        \n",
    "        img_path_png = img_path.split(\".\")[0] + \".png\"\n",
    "        mask_path_png = mask_path.split(\".\")[0] + \".png\"\n",
    "        \n",
    "        io.imsave(img_path_png, img)\n",
    "        io.imsave(mask_path_png, mask)\n",
    "        \n",
    "        os.remove(img_path)\n",
    "        os.remove(mask_path)\n",
    "        \n",
    "\n",
    "        if os.path.exists(img_path_png) and os.path.exists(mask_path_png):\n",
    "            \n",
    "\n",
    "            df = df.append({\"image_path\": img_path_png,\n",
    "                            \"mask_path\": mask_path_png\n",
    "                            }, ignore_index=True)\n",
    "        else:\n",
    "            print(\"Found mismatch files\")\n",
    "            print(\"Image path=\", img_path_png)\n",
    "            print(\"mask_path\", mask_path_png)\n",
    "\n",
    "    return df"
   ]
  },
  {
   "cell_type": "code",
   "execution_count": 5,
   "metadata": {},
   "outputs": [],
   "source": [
    "def make_and_save_folds(img_dir, mask_dir, basic_name=\"CVC_Clinic_DB\"):\n",
    "        df = make_df(img_dir, mask_dir)\n",
    "        df.to_csv(f\"{basic_name}.csv\", index=False, header=True)"
   ]
  },
  {
   "cell_type": "code",
   "execution_count": 6,
   "metadata": {},
   "outputs": [
    {
     "name": "stderr",
     "output_type": "stream",
     "text": [
      "  0%|          | 2/612 [00:00<00:53, 11.34it/s]<ipython-input-4-3f28fee3502a>:20: UserWarning: /work/vajira/DATA/sinGAN_polyps/cvc_clinic_db/CVC-ClinicDB/ground_truth/51.png is a low contrast image\n",
      "  io.imsave(mask_path_png, mask)\n",
      "  8%|▊         | 50/612 [00:03<00:43, 13.03it/s]<ipython-input-4-3f28fee3502a>:20: UserWarning: /work/vajira/DATA/sinGAN_polyps/cvc_clinic_db/CVC-ClinicDB/ground_truth/375.png is a low contrast image\n",
      "  io.imsave(mask_path_png, mask)\n",
      " 17%|█▋        | 104/612 [00:08<00:39, 12.72it/s]<ipython-input-4-3f28fee3502a>:20: UserWarning: /work/vajira/DATA/sinGAN_polyps/cvc_clinic_db/CVC-ClinicDB/ground_truth/154.png is a low contrast image\n",
      "  io.imsave(mask_path_png, mask)\n",
      " 18%|█▊        | 110/612 [00:08<00:39, 12.68it/s]<ipython-input-4-3f28fee3502a>:20: UserWarning: /work/vajira/DATA/sinGAN_polyps/cvc_clinic_db/CVC-ClinicDB/ground_truth/71.png is a low contrast image\n",
      "  io.imsave(mask_path_png, mask)\n",
      " 34%|███▎      | 206/612 [00:16<00:31, 13.02it/s]<ipython-input-4-3f28fee3502a>:20: UserWarning: /work/vajira/DATA/sinGAN_polyps/cvc_clinic_db/CVC-ClinicDB/ground_truth/178.png is a low contrast image\n",
      "  io.imsave(mask_path_png, mask)\n",
      " 40%|████      | 246/612 [00:19<00:26, 13.71it/s]<ipython-input-4-3f28fee3502a>:20: UserWarning: /work/vajira/DATA/sinGAN_polyps/cvc_clinic_db/CVC-ClinicDB/ground_truth/371.png is a low contrast image\n",
      "  io.imsave(mask_path_png, mask)\n",
      " 51%|█████▏    | 314/612 [00:24<00:23, 12.93it/s]<ipython-input-4-3f28fee3502a>:20: UserWarning: /work/vajira/DATA/sinGAN_polyps/cvc_clinic_db/CVC-ClinicDB/ground_truth/54.png is a low contrast image\n",
      "  io.imsave(mask_path_png, mask)\n",
      " 57%|█████▋    | 346/612 [00:26<00:20, 12.90it/s]<ipython-input-4-3f28fee3502a>:20: UserWarning: /work/vajira/DATA/sinGAN_polyps/cvc_clinic_db/CVC-ClinicDB/ground_truth/52.png is a low contrast image\n",
      "  io.imsave(mask_path_png, mask)\n",
      " 62%|██████▏   | 378/612 [00:29<00:18, 12.67it/s]<ipython-input-4-3f28fee3502a>:20: UserWarning: /work/vajira/DATA/sinGAN_polyps/cvc_clinic_db/CVC-ClinicDB/ground_truth/53.png is a low contrast image\n",
      "  io.imsave(mask_path_png, mask)\n",
      " 85%|████████▍ | 518/612 [00:40<00:07, 12.33it/s]<ipython-input-4-3f28fee3502a>:20: UserWarning: /work/vajira/DATA/sinGAN_polyps/cvc_clinic_db/CVC-ClinicDB/ground_truth/55.png is a low contrast image\n",
      "  io.imsave(mask_path_png, mask)\n",
      " 87%|████████▋ | 532/612 [00:41<00:06, 12.59it/s]<ipython-input-4-3f28fee3502a>:20: UserWarning: /work/vajira/DATA/sinGAN_polyps/cvc_clinic_db/CVC-ClinicDB/ground_truth/559.png is a low contrast image\n",
      "  io.imsave(mask_path_png, mask)\n",
      " 93%|█████████▎| 568/612 [00:43<00:03, 12.26it/s]<ipython-input-4-3f28fee3502a>:20: UserWarning: /work/vajira/DATA/sinGAN_polyps/cvc_clinic_db/CVC-ClinicDB/ground_truth/373.png is a low contrast image\n",
      "  io.imsave(mask_path_png, mask)\n",
      " 99%|█████████▉| 608/612 [00:46<00:00, 13.87it/s]<ipython-input-4-3f28fee3502a>:20: UserWarning: /work/vajira/DATA/sinGAN_polyps/cvc_clinic_db/CVC-ClinicDB/ground_truth/372.png is a low contrast image\n",
      "  io.imsave(mask_path_png, mask)\n",
      "100%|██████████| 612/612 [00:47<00:00, 12.95it/s]\n"
     ]
    }
   ],
   "source": [
    "make_and_save_folds(img_dir, mask_dir, basic_name=\"CVC_Clinic_DB\")"
   ]
  },
  {
   "cell_type": "markdown",
   "metadata": {},
   "source": [
    "## MAKE CSV of ETIS_Larib"
   ]
  },
  {
   "cell_type": "code",
   "execution_count": 7,
   "metadata": {},
   "outputs": [],
   "source": [
    "img_dir = \"/work/vajira/DATA/sinGAN_polyps/ETIS-Larib/ETIS-LaribPolypDB/ETIS-LaribPolypDB\"\n",
    "mask_dir = \"/work/vajira/DATA/sinGAN_polyps/ETIS-Larib/ETIS-LaribPolypDB/ground_truth\""
   ]
  },
  {
   "cell_type": "code",
   "execution_count": 8,
   "metadata": {},
   "outputs": [],
   "source": [
    "from skimage import io"
   ]
  },
  {
   "cell_type": "code",
   "execution_count": 9,
   "metadata": {},
   "outputs": [],
   "source": [
    "def make_df(img_dir, mask_dir):\n",
    "\n",
    "    df = pd.DataFrame(columns=[\"image_path\", \"mask_path\"])\n",
    "    \n",
    "    \n",
    "\n",
    "    for img_name in tqdm(os.listdir(img_dir)):\n",
    "\n",
    "        img_path = os.path.join(img_dir, str(img_name))\n",
    "        mask_path = os.path.join(mask_dir, \"p\"+str(img_name)) # check the dataset to know why \"p\"\n",
    "        \n",
    "        # converting tif to png\n",
    "        img = io.imread(img_path)\n",
    "        mask = io.imread(mask_path)\n",
    "        \n",
    "        img_path_png = img_path.split(\".\")[0] + \".png\"\n",
    "        mask_path_png = mask_path.split(\".\")[0] + \".png\"\n",
    "        \n",
    "        io.imsave(img_path_png, img)\n",
    "        io.imsave(mask_path_png, mask)\n",
    "        \n",
    "        os.remove(img_path)\n",
    "        os.remove(mask_path)\n",
    "        \n",
    "\n",
    "        if os.path.exists(img_path_png) and os.path.exists(mask_path_png):\n",
    "            \n",
    "\n",
    "            df = df.append({\"image_path\": img_path_png,\n",
    "                            \"mask_path\": mask_path_png\n",
    "                            }, ignore_index=True)\n",
    "        else:\n",
    "            print(\"Found mismatch files\")\n",
    "            print(\"Image path=\", img_path_png)\n",
    "            print(\"mask_path\", mask_path_png)\n",
    "\n",
    "    return df"
   ]
  },
  {
   "cell_type": "code",
   "execution_count": 10,
   "metadata": {},
   "outputs": [
    {
     "name": "stderr",
     "output_type": "stream",
     "text": [
      "  0%|          | 0/196 [00:00<?, ?it/s]<ipython-input-9-ba63c5bbf075>:20: UserWarning: /work/vajira/DATA/sinGAN_polyps/ETIS-Larib/ETIS-LaribPolypDB/ground_truth/p75.png is a low contrast image\n",
      "  io.imsave(mask_path_png, mask)\n",
      "  2%|▏         | 4/196 [00:06<05:04,  1.59s/it]<ipython-input-9-ba63c5bbf075>:20: UserWarning: /work/vajira/DATA/sinGAN_polyps/ETIS-Larib/ETIS-LaribPolypDB/ground_truth/p195.png is a low contrast image\n",
      "  io.imsave(mask_path_png, mask)\n",
      "  4%|▎         | 7/196 [00:11<05:03,  1.61s/it]<ipython-input-9-ba63c5bbf075>:20: UserWarning: /work/vajira/DATA/sinGAN_polyps/ETIS-Larib/ETIS-LaribPolypDB/ground_truth/p196.png is a low contrast image\n",
      "  io.imsave(mask_path_png, mask)\n",
      "  6%|▌         | 12/196 [00:19<04:51,  1.59s/it]<ipython-input-9-ba63c5bbf075>:20: UserWarning: /work/vajira/DATA/sinGAN_polyps/ETIS-Larib/ETIS-LaribPolypDB/ground_truth/p135.png is a low contrast image\n",
      "  io.imsave(mask_path_png, mask)\n",
      "  7%|▋         | 13/196 [00:20<04:35,  1.51s/it]<ipython-input-9-ba63c5bbf075>:20: UserWarning: /work/vajira/DATA/sinGAN_polyps/ETIS-Larib/ETIS-LaribPolypDB/ground_truth/p70.png is a low contrast image\n",
      "  io.imsave(mask_path_png, mask)\n",
      "  8%|▊         | 16/196 [00:24<04:21,  1.45s/it]<ipython-input-9-ba63c5bbf075>:20: UserWarning: /work/vajira/DATA/sinGAN_polyps/ETIS-Larib/ETIS-LaribPolypDB/ground_truth/p69.png is a low contrast image\n",
      "  io.imsave(mask_path_png, mask)\n",
      " 10%|▉         | 19/196 [00:29<04:25,  1.50s/it]<ipython-input-9-ba63c5bbf075>:20: UserWarning: /work/vajira/DATA/sinGAN_polyps/ETIS-Larib/ETIS-LaribPolypDB/ground_truth/p194.png is a low contrast image\n",
      "  io.imsave(mask_path_png, mask)\n",
      " 10%|█         | 20/196 [00:30<04:33,  1.55s/it]<ipython-input-9-ba63c5bbf075>:20: UserWarning: /work/vajira/DATA/sinGAN_polyps/ETIS-Larib/ETIS-LaribPolypDB/ground_truth/p130.png is a low contrast image\n",
      "  io.imsave(mask_path_png, mask)\n",
      " 13%|█▎        | 25/196 [00:38<04:10,  1.47s/it]<ipython-input-9-ba63c5bbf075>:20: UserWarning: /work/vajira/DATA/sinGAN_polyps/ETIS-Larib/ETIS-LaribPolypDB/ground_truth/p76.png is a low contrast image\n",
      "  io.imsave(mask_path_png, mask)\n",
      " 14%|█▍        | 27/196 [00:41<04:19,  1.54s/it]<ipython-input-9-ba63c5bbf075>:20: UserWarning: /work/vajira/DATA/sinGAN_polyps/ETIS-Larib/ETIS-LaribPolypDB/ground_truth/p89.png is a low contrast image\n",
      "  io.imsave(mask_path_png, mask)\n",
      " 15%|█▌        | 30/196 [00:46<04:18,  1.55s/it]<ipython-input-9-ba63c5bbf075>:20: UserWarning: /work/vajira/DATA/sinGAN_polyps/ETIS-Larib/ETIS-LaribPolypDB/ground_truth/p73.png is a low contrast image\n",
      "  io.imsave(mask_path_png, mask)\n",
      " 16%|█▋        | 32/196 [00:49<04:14,  1.55s/it]<ipython-input-9-ba63c5bbf075>:20: UserWarning: /work/vajira/DATA/sinGAN_polyps/ETIS-Larib/ETIS-LaribPolypDB/ground_truth/p72.png is a low contrast image\n",
      "  io.imsave(mask_path_png, mask)\n",
      " 17%|█▋        | 34/196 [00:52<04:13,  1.56s/it]<ipython-input-9-ba63c5bbf075>:20: UserWarning: /work/vajira/DATA/sinGAN_polyps/ETIS-Larib/ETIS-LaribPolypDB/ground_truth/p154.png is a low contrast image\n",
      "  io.imsave(mask_path_png, mask)\n",
      " 19%|█▉        | 37/196 [00:57<04:07,  1.56s/it]<ipython-input-9-ba63c5bbf075>:20: UserWarning: /work/vajira/DATA/sinGAN_polyps/ETIS-Larib/ETIS-LaribPolypDB/ground_truth/p71.png is a low contrast image\n",
      "  io.imsave(mask_path_png, mask)\n",
      " 20%|██        | 40/196 [01:01<04:05,  1.57s/it]<ipython-input-9-ba63c5bbf075>:20: UserWarning: /work/vajira/DATA/sinGAN_polyps/ETIS-Larib/ETIS-LaribPolypDB/ground_truth/p4.png is a low contrast image\n",
      "  io.imsave(mask_path_png, mask)\n",
      " 24%|██▍       | 47/196 [01:12<03:51,  1.56s/it]<ipython-input-9-ba63c5bbf075>:20: UserWarning: /work/vajira/DATA/sinGAN_polyps/ETIS-Larib/ETIS-LaribPolypDB/ground_truth/p170.png is a low contrast image\n",
      "  io.imsave(mask_path_png, mask)\n",
      " 24%|██▍       | 48/196 [01:14<03:50,  1.56s/it]<ipython-input-9-ba63c5bbf075>:20: UserWarning: /work/vajira/DATA/sinGAN_polyps/ETIS-Larib/ETIS-LaribPolypDB/ground_truth/p10.png is a low contrast image\n",
      "  io.imsave(mask_path_png, mask)\n",
      " 26%|██▌       | 50/196 [01:17<03:49,  1.57s/it]<ipython-input-9-ba63c5bbf075>:20: UserWarning: /work/vajira/DATA/sinGAN_polyps/ETIS-Larib/ETIS-LaribPolypDB/ground_truth/p78.png is a low contrast image\n",
      "  io.imsave(mask_path_png, mask)\n",
      " 27%|██▋       | 52/196 [01:20<03:46,  1.57s/it]<ipython-input-9-ba63c5bbf075>:20: UserWarning: /work/vajira/DATA/sinGAN_polyps/ETIS-Larib/ETIS-LaribPolypDB/ground_truth/p95.png is a low contrast image\n",
      "  io.imsave(mask_path_png, mask)\n",
      " 29%|██▉       | 57/196 [01:28<03:38,  1.57s/it]<ipython-input-9-ba63c5bbf075>:20: UserWarning: /work/vajira/DATA/sinGAN_polyps/ETIS-Larib/ETIS-LaribPolypDB/ground_truth/p79.png is a low contrast image\n",
      "  io.imsave(mask_path_png, mask)\n",
      " 31%|███       | 60/196 [01:33<03:38,  1.61s/it]<ipython-input-9-ba63c5bbf075>:20: UserWarning: /work/vajira/DATA/sinGAN_polyps/ETIS-Larib/ETIS-LaribPolypDB/ground_truth/p157.png is a low contrast image\n",
      "  io.imsave(mask_path_png, mask)\n",
      " 32%|███▏      | 63/196 [01:38<03:38,  1.64s/it]<ipython-input-9-ba63c5bbf075>:20: UserWarning: /work/vajira/DATA/sinGAN_polyps/ETIS-Larib/ETIS-LaribPolypDB/ground_truth/p132.png is a low contrast image\n",
      "  io.imsave(mask_path_png, mask)\n",
      " 34%|███▎      | 66/196 [01:42<03:25,  1.58s/it]<ipython-input-9-ba63c5bbf075>:20: UserWarning: /work/vajira/DATA/sinGAN_polyps/ETIS-Larib/ETIS-LaribPolypDB/ground_truth/p8.png is a low contrast image\n",
      "  io.imsave(mask_path_png, mask)\n",
      " 36%|███▌      | 71/196 [01:50<03:14,  1.56s/it]<ipython-input-9-ba63c5bbf075>:20: UserWarning: /work/vajira/DATA/sinGAN_polyps/ETIS-Larib/ETIS-LaribPolypDB/ground_truth/p2.png is a low contrast image\n",
      "  io.imsave(mask_path_png, mask)\n",
      " 37%|███▋      | 73/196 [01:53<03:09,  1.54s/it]<ipython-input-9-ba63c5bbf075>:20: UserWarning: /work/vajira/DATA/sinGAN_polyps/ETIS-Larib/ETIS-LaribPolypDB/ground_truth/p9.png is a low contrast image\n",
      "  io.imsave(mask_path_png, mask)\n",
      " 40%|███▉      | 78/196 [02:01<03:09,  1.60s/it]<ipython-input-9-ba63c5bbf075>:20: UserWarning: /work/vajira/DATA/sinGAN_polyps/ETIS-Larib/ETIS-LaribPolypDB/ground_truth/p23.png is a low contrast image\n",
      "  io.imsave(mask_path_png, mask)\n",
      " 41%|████      | 80/196 [02:04<02:58,  1.54s/it]<ipython-input-9-ba63c5bbf075>:20: UserWarning: /work/vajira/DATA/sinGAN_polyps/ETIS-Larib/ETIS-LaribPolypDB/ground_truth/p97.png is a low contrast image\n",
      "  io.imsave(mask_path_png, mask)\n",
      " 42%|████▏     | 83/196 [02:09<02:58,  1.58s/it]<ipython-input-9-ba63c5bbf075>:20: UserWarning: /work/vajira/DATA/sinGAN_polyps/ETIS-Larib/ETIS-LaribPolypDB/ground_truth/p122.png is a low contrast image\n",
      "  io.imsave(mask_path_png, mask)\n",
      " 43%|████▎     | 84/196 [02:11<02:59,  1.60s/it]<ipython-input-9-ba63c5bbf075>:20: UserWarning: /work/vajira/DATA/sinGAN_polyps/ETIS-Larib/ETIS-LaribPolypDB/ground_truth/p96.png is a low contrast image\n",
      "  io.imsave(mask_path_png, mask)\n",
      " 43%|████▎     | 85/196 [02:12<02:58,  1.61s/it]<ipython-input-9-ba63c5bbf075>:20: UserWarning: /work/vajira/DATA/sinGAN_polyps/ETIS-Larib/ETIS-LaribPolypDB/ground_truth/p36.png is a low contrast image\n",
      "  io.imsave(mask_path_png, mask)\n",
      " 46%|████▌     | 90/196 [02:19<02:30,  1.42s/it]<ipython-input-9-ba63c5bbf075>:20: UserWarning: /work/vajira/DATA/sinGAN_polyps/ETIS-Larib/ETIS-LaribPolypDB/ground_truth/p98.png is a low contrast image\n",
      "  io.imsave(mask_path_png, mask)\n",
      " 46%|████▋     | 91/196 [02:21<02:35,  1.48s/it]<ipython-input-9-ba63c5bbf075>:20: UserWarning: /work/vajira/DATA/sinGAN_polyps/ETIS-Larib/ETIS-LaribPolypDB/ground_truth/p140.png is a low contrast image\n",
      "  io.imsave(mask_path_png, mask)\n",
      " 47%|████▋     | 92/196 [02:23<02:34,  1.49s/it]<ipython-input-9-ba63c5bbf075>:20: UserWarning: /work/vajira/DATA/sinGAN_polyps/ETIS-Larib/ETIS-LaribPolypDB/ground_truth/p141.png is a low contrast image\n",
      "  io.imsave(mask_path_png, mask)\n",
      " 48%|████▊     | 94/196 [02:26<02:38,  1.55s/it]<ipython-input-9-ba63c5bbf075>:20: UserWarning: /work/vajira/DATA/sinGAN_polyps/ETIS-Larib/ETIS-LaribPolypDB/ground_truth/p93.png is a low contrast image\n",
      "  io.imsave(mask_path_png, mask)\n",
      " 53%|█████▎    | 103/196 [02:39<02:10,  1.40s/it]<ipython-input-9-ba63c5bbf075>:20: UserWarning: /work/vajira/DATA/sinGAN_polyps/ETIS-Larib/ETIS-LaribPolypDB/ground_truth/p60.png is a low contrast image\n",
      "  io.imsave(mask_path_png, mask)\n",
      " 53%|█████▎    | 104/196 [02:40<02:02,  1.33s/it]<ipython-input-9-ba63c5bbf075>:20: UserWarning: /work/vajira/DATA/sinGAN_polyps/ETIS-Larib/ETIS-LaribPolypDB/ground_truth/p191.png is a low contrast image\n",
      "  io.imsave(mask_path_png, mask)\n",
      " 54%|█████▎    | 105/196 [02:42<02:10,  1.43s/it]<ipython-input-9-ba63c5bbf075>:20: UserWarning: /work/vajira/DATA/sinGAN_polyps/ETIS-Larib/ETIS-LaribPolypDB/ground_truth/p192.png is a low contrast image\n",
      "  io.imsave(mask_path_png, mask)\n",
      " 55%|█████▌    | 108/196 [02:47<02:20,  1.60s/it]<ipython-input-9-ba63c5bbf075>:20: UserWarning: /work/vajira/DATA/sinGAN_polyps/ETIS-Larib/ETIS-LaribPolypDB/ground_truth/p169.png is a low contrast image\n",
      "  io.imsave(mask_path_png, mask)\n",
      " 56%|█████▌    | 109/196 [02:48<02:17,  1.58s/it]<ipython-input-9-ba63c5bbf075>:20: UserWarning: /work/vajira/DATA/sinGAN_polyps/ETIS-Larib/ETIS-LaribPolypDB/ground_truth/p6.png is a low contrast image\n",
      "  io.imsave(mask_path_png, mask)\n",
      " 57%|█████▋    | 111/196 [02:51<02:16,  1.61s/it]<ipython-input-9-ba63c5bbf075>:20: UserWarning: /work/vajira/DATA/sinGAN_polyps/ETIS-Larib/ETIS-LaribPolypDB/ground_truth/p156.png is a low contrast image\n",
      "  io.imsave(mask_path_png, mask)\n",
      " 60%|█████▉    | 117/196 [03:01<02:05,  1.59s/it]<ipython-input-9-ba63c5bbf075>:20: UserWarning: /work/vajira/DATA/sinGAN_polyps/ETIS-Larib/ETIS-LaribPolypDB/ground_truth/p12.png is a low contrast image\n",
      "  io.imsave(mask_path_png, mask)\n",
      " 60%|██████    | 118/196 [03:03<02:06,  1.62s/it]<ipython-input-9-ba63c5bbf075>:20: UserWarning: /work/vajira/DATA/sinGAN_polyps/ETIS-Larib/ETIS-LaribPolypDB/ground_truth/p57.png is a low contrast image\n",
      "  io.imsave(mask_path_png, mask)\n",
      " 62%|██████▏   | 121/196 [03:07<01:49,  1.47s/it]<ipython-input-9-ba63c5bbf075>:20: UserWarning: /work/vajira/DATA/sinGAN_polyps/ETIS-Larib/ETIS-LaribPolypDB/ground_truth/p53.png is a low contrast image\n",
      "  io.imsave(mask_path_png, mask)\n",
      " 63%|██████▎   | 124/196 [03:11<01:43,  1.44s/it]<ipython-input-9-ba63c5bbf075>:20: UserWarning: /work/vajira/DATA/sinGAN_polyps/ETIS-Larib/ETIS-LaribPolypDB/ground_truth/p3.png is a low contrast image\n",
      "  io.imsave(mask_path_png, mask)\n",
      " 66%|██████▌   | 129/196 [03:19<01:44,  1.56s/it]<ipython-input-9-ba63c5bbf075>:20: UserWarning: /work/vajira/DATA/sinGAN_polyps/ETIS-Larib/ETIS-LaribPolypDB/ground_truth/p1.png is a low contrast image\n",
      "  io.imsave(mask_path_png, mask)\n",
      " 67%|██████▋   | 131/196 [03:22<01:34,  1.46s/it]<ipython-input-9-ba63c5bbf075>:20: UserWarning: /work/vajira/DATA/sinGAN_polyps/ETIS-Larib/ETIS-LaribPolypDB/ground_truth/p123.png is a low contrast image\n",
      "  io.imsave(mask_path_png, mask)\n",
      " 68%|██████▊   | 134/196 [03:27<01:32,  1.49s/it]<ipython-input-9-ba63c5bbf075>:20: UserWarning: /work/vajira/DATA/sinGAN_polyps/ETIS-Larib/ETIS-LaribPolypDB/ground_truth/p146.png is a low contrast image\n",
      "  io.imsave(mask_path_png, mask)\n",
      " 69%|██████▉   | 136/196 [03:30<01:26,  1.44s/it]<ipython-input-9-ba63c5bbf075>:20: UserWarning: /work/vajira/DATA/sinGAN_polyps/ETIS-Larib/ETIS-LaribPolypDB/ground_truth/p80.png is a low contrast image\n",
      "  io.imsave(mask_path_png, mask)\n",
      " 70%|██████▉   | 137/196 [03:31<01:27,  1.49s/it]<ipython-input-9-ba63c5bbf075>:20: UserWarning: /work/vajira/DATA/sinGAN_polyps/ETIS-Larib/ETIS-LaribPolypDB/ground_truth/p77.png is a low contrast image\n",
      "  io.imsave(mask_path_png, mask)\n",
      " 72%|███████▏  | 141/196 [03:37<01:24,  1.53s/it]<ipython-input-9-ba63c5bbf075>:20: UserWarning: /work/vajira/DATA/sinGAN_polyps/ETIS-Larib/ETIS-LaribPolypDB/ground_truth/p128.png is a low contrast image\n",
      "  io.imsave(mask_path_png, mask)\n",
      " 77%|███████▋  | 150/196 [03:51<01:12,  1.57s/it]<ipython-input-9-ba63c5bbf075>:20: UserWarning: /work/vajira/DATA/sinGAN_polyps/ETIS-Larib/ETIS-LaribPolypDB/ground_truth/p90.png is a low contrast image\n",
      "  io.imsave(mask_path_png, mask)\n",
      " 78%|███████▊  | 153/196 [03:56<01:04,  1.49s/it]<ipython-input-9-ba63c5bbf075>:20: UserWarning: /work/vajira/DATA/sinGAN_polyps/ETIS-Larib/ETIS-LaribPolypDB/ground_truth/p129.png is a low contrast image\n",
      "  io.imsave(mask_path_png, mask)\n",
      " 79%|███████▉  | 155/196 [03:59<01:02,  1.52s/it]<ipython-input-9-ba63c5bbf075>:20: UserWarning: /work/vajira/DATA/sinGAN_polyps/ETIS-Larib/ETIS-LaribPolypDB/ground_truth/p193.png is a low contrast image\n",
      "  io.imsave(mask_path_png, mask)\n",
      " 83%|████████▎ | 162/196 [04:10<00:54,  1.60s/it]<ipython-input-9-ba63c5bbf075>:20: UserWarning: /work/vajira/DATA/sinGAN_polyps/ETIS-Larib/ETIS-LaribPolypDB/ground_truth/p58.png is a low contrast image\n",
      "  io.imsave(mask_path_png, mask)\n",
      " 90%|████████▉ | 176/196 [04:30<00:30,  1.51s/it]<ipython-input-9-ba63c5bbf075>:20: UserWarning: /work/vajira/DATA/sinGAN_polyps/ETIS-Larib/ETIS-LaribPolypDB/ground_truth/p131.png is a low contrast image\n",
      "  io.imsave(mask_path_png, mask)\n",
      " 91%|█████████ | 178/196 [04:33<00:26,  1.49s/it]<ipython-input-9-ba63c5bbf075>:20: UserWarning: /work/vajira/DATA/sinGAN_polyps/ETIS-Larib/ETIS-LaribPolypDB/ground_truth/p24.png is a low contrast image\n",
      "  io.imsave(mask_path_png, mask)\n",
      " 92%|█████████▏| 180/196 [04:36<00:21,  1.37s/it]<ipython-input-9-ba63c5bbf075>:20: UserWarning: /work/vajira/DATA/sinGAN_polyps/ETIS-Larib/ETIS-LaribPolypDB/ground_truth/p74.png is a low contrast image\n",
      "  io.imsave(mask_path_png, mask)\n",
      " 93%|█████████▎| 182/196 [04:38<00:19,  1.39s/it]<ipython-input-9-ba63c5bbf075>:20: UserWarning: /work/vajira/DATA/sinGAN_polyps/ETIS-Larib/ETIS-LaribPolypDB/ground_truth/p11.png is a low contrast image\n",
      "  io.imsave(mask_path_png, mask)\n",
      " 94%|█████████▍| 185/196 [04:43<00:17,  1.55s/it]<ipython-input-9-ba63c5bbf075>:20: UserWarning: /work/vajira/DATA/sinGAN_polyps/ETIS-Larib/ETIS-LaribPolypDB/ground_truth/p138.png is a low contrast image\n",
      "  io.imsave(mask_path_png, mask)\n",
      " 95%|█████████▌| 187/196 [04:46<00:13,  1.50s/it]<ipython-input-9-ba63c5bbf075>:20: UserWarning: /work/vajira/DATA/sinGAN_polyps/ETIS-Larib/ETIS-LaribPolypDB/ground_truth/p5.png is a low contrast image\n",
      "  io.imsave(mask_path_png, mask)\n",
      " 96%|█████████▋| 189/196 [04:49<00:10,  1.48s/it]<ipython-input-9-ba63c5bbf075>:20: UserWarning: /work/vajira/DATA/sinGAN_polyps/ETIS-Larib/ETIS-LaribPolypDB/ground_truth/p7.png is a low contrast image\n",
      "  io.imsave(mask_path_png, mask)\n",
      " 98%|█████████▊| 193/196 [04:55<00:04,  1.57s/it]<ipython-input-9-ba63c5bbf075>:20: UserWarning: /work/vajira/DATA/sinGAN_polyps/ETIS-Larib/ETIS-LaribPolypDB/ground_truth/p94.png is a low contrast image\n",
      "  io.imsave(mask_path_png, mask)\n",
      "100%|██████████| 196/196 [05:00<00:00,  1.53s/it]\n"
     ]
    }
   ],
   "source": [
    "make_and_save_folds(img_dir, mask_dir, basic_name=\"ETIS_Larib_DB\")"
   ]
  },
  {
   "cell_type": "markdown",
   "metadata": {},
   "source": [
    "## Make fold CSVs for synthetic data"
   ]
  },
  {
   "cell_type": "code",
   "execution_count": 5,
   "metadata": {},
   "outputs": [],
   "source": [
    "src_dir = \"/work/vajira/DATA/sinGAN_polyps/singan_out\"\n"
   ]
  },
  {
   "cell_type": "code",
   "execution_count": 6,
   "metadata": {},
   "outputs": [],
   "source": [
    "def make_df_from_synthetic(src_dir, fold_ids, scales = [0, 1], num_samples_per_img=2):\n",
    "    \n",
    "    df = pd.DataFrame(columns=[\"image_path\", \"mask_path\"])\n",
    "    \n",
    "    \n",
    "    for data_id in fold_ids:\n",
    "        \n",
    "        for n in range(num_samples_per_img):\n",
    "            \n",
    "            for scale in scales:\n",
    "                \n",
    "                img_path = f\"{src_dir}/chk_id_{data_id}_gen_scale_{scale}_{n}_img.png\"\n",
    "                mask_path = f\"{src_dir}/chk_id_{data_id}_gen_scale_{scale}_{n}_mask.png\"\n",
    "                \n",
    "                \n",
    "                if os.path.exists(img_path) and os.path.exists(mask_path):\n",
    "                    \n",
    "                    df = df.append({\"image_path\": img_path,\n",
    "                            \"mask_path\": mask_path\n",
    "                            }, ignore_index=True)\n",
    "                else:\n",
    "                    print(\"Found mismatch files\")\n",
    "                    print(\"Image path=\", img_path)\n",
    "                    print(\"mask_path\", mask_path)\n",
    "                    \n",
    "    return df\n",
    "    \n",
    "    "
   ]
  },
  {
   "cell_type": "code",
   "execution_count": 7,
   "metadata": {},
   "outputs": [],
   "source": [
    "def make_and_save_folds_synth(src_dir, folds_id_array, scales = [0], num_samples_per_img=1, basic_name=\"FAKE_scale_0_num_img_1\"):\n",
    "    \n",
    "    for f in range(len(folds_id_array)):\n",
    "        fold_ids = folds_id_array[f]\n",
    "        df = make_df_from_synthetic(src_dir, fold_ids, scales, num_samples_per_img)\n",
    "        \n",
    "        df.to_csv(f\"{basic_name}_fold_{f}.csv\", index=False, header=True)"
   ]
  },
  {
   "cell_type": "code",
   "execution_count": 1,
   "metadata": {},
   "outputs": [],
   "source": [
    "make_and_save_folds_synth(src_dir, folds, scales = [0],num_samples_per_img=6,  basic_name=\"FAKE_scale_0_num_img_6\")"
   ]
  },
  {
   "cell_type": "code",
   "execution_count": null,
   "metadata": {},
   "outputs": [],
   "source": []
  },
  {
   "cell_type": "markdown",
   "metadata": {},
   "source": [
    "## Make fold CSVs for synthetic data with styled transfered"
   ]
  },
  {
   "cell_type": "code",
   "execution_count": 12,
   "metadata": {},
   "outputs": [],
   "source": [
    "IMG_src_dir = \"/work/vajira/DATA/sinGAN_polyps/singan_out_style_transfered_1_to_1000_vgg16_selected_50\"\n",
    "MASK_src_dir = \"/work/vajira/DATA/sinGAN_polyps/singan_out_selected_50\"\n"
   ]
  },
  {
   "cell_type": "code",
   "execution_count": 13,
   "metadata": {},
   "outputs": [],
   "source": [
    "def make_df_from_synthetic(img_src_dir, mask_src_dir, fold_ids, scales = [0, 1], num_samples_per_img=2):\n",
    "    \n",
    "    df = pd.DataFrame(columns=[\"image_path\", \"mask_path\"])\n",
    "    \n",
    "    \n",
    "    for data_id in fold_ids:\n",
    "        \n",
    "        for n in range(num_samples_per_img):\n",
    "            \n",
    "            for scale in scales:\n",
    "                \n",
    "                img_path = f\"{img_src_dir}/chk_id_{data_id}_gen_scale_{scale}_{n}_img_ST.png\"\n",
    "                mask_path = f\"{mask_src_dir}/chk_id_{data_id}_gen_scale_{scale}_{n}_mask.png\"\n",
    "                \n",
    "                \n",
    "                if os.path.exists(img_path) and os.path.exists(mask_path):\n",
    "                    \n",
    "                    df = df.append({\"image_path\": img_path,\n",
    "                            \"mask_path\": mask_path\n",
    "                            }, ignore_index=True)\n",
    "                else:\n",
    "                    print(\"Found mismatch files\")\n",
    "                    print(\"Image path=\", img_path)\n",
    "                    print(\"mask_path\", mask_path)\n",
    "                    \n",
    "    return df"
   ]
  },
  {
   "cell_type": "code",
   "execution_count": 14,
   "metadata": {},
   "outputs": [],
   "source": [
    "def make_and_save_folds_synth(img_src_dir, mask_src_dir, folds_id_array, scales = [0], num_samples_per_img=10, basic_name=\" \"):\n",
    "    \n",
    "    for f in range(len(folds_id_array)):\n",
    "        fold_ids = folds_id_array[f]\n",
    "        df = make_df_from_synthetic(img_src_dir, mask_src_dir, fold_ids, scales, num_samples_per_img)\n",
    "        \n",
    "        df.to_csv(f\"{basic_name}_fold_{f}.csv\", index=False, header=True)"
   ]
  },
  {
   "cell_type": "code",
   "execution_count": 15,
   "metadata": {},
   "outputs": [],
   "source": [
    "make_and_save_folds_synth(IMG_src_dir, MASK_src_dir, folds, scales = [0],num_samples_per_img=10,  basic_name=\"FAKE_scale_0_num_img_10_ST_1to1000_selected_50\")"
   ]
  },
  {
   "cell_type": "code",
   "execution_count": 15,
   "metadata": {},
   "outputs": [],
   "source": [
    "#df =make_df_from_synthetic(src_dir, folds[0])"
   ]
  },
  {
   "cell_type": "code",
   "execution_count": 16,
   "metadata": {},
   "outputs": [],
   "source": [
    "#df"
   ]
  },
  {
   "cell_type": "code",
   "execution_count": 17,
   "metadata": {},
   "outputs": [],
   "source": [
    "#df.to_csv(\"test_2.csv\",index=False, header=True)"
   ]
  },
  {
   "cell_type": "markdown",
   "metadata": {},
   "source": [
    "## Check images"
   ]
  },
  {
   "cell_type": "code",
   "execution_count": 21,
   "metadata": {},
   "outputs": [],
   "source": [
    "from PIL import Image \n",
    "import pandas as pd"
   ]
  },
  {
   "cell_type": "code",
   "execution_count": 19,
   "metadata": {},
   "outputs": [
    {
     "data": {
      "image/png": "[encoded data removed]",
      "text/plain": [
       "<PIL.PngImagePlugin.PngImageFile image mode=RGB size=250x214 at 0x7FF574330130>"
      ]
     },
     "execution_count": 19,
     "metadata": {},
     "output_type": "execute_result"
    }
   ],
   "source": [
    "Image.open(\"/work/vajira/DATA/sinGAN_polyps/singan_out_style_transfered_1_to_1_vgg16/chk_id_605_gen_scale_0_1_img_ST.png\")"
   ]
  },
  {
   "cell_type": "code",
   "execution_count": 20,
   "metadata": {},
   "outputs": [
    {
     "data": {
      "image/png": "[encoded data removed]",
      "text/plain": [
       "<PIL.PngImagePlugin.PngImageFile image mode=RGBA size=250x214 at 0x7FF574356670>"
      ]
     },
     "execution_count": 20,
     "metadata": {},
     "output_type": "execute_result"
    }
   ],
   "source": [
    "Image.open(\"/work/vajira/DATA/sinGAN_polyps/singan_out/chk_id_605_gen_scale_0_1_mask.png\")"
   ]
  },
  {
   "cell_type": "code",
   "execution_count": 23,
   "metadata": {},
   "outputs": [],
   "source": [
    "df = pd.read_csv(\"/work/vajira/DL/singan-polyp-aug-exp/notebooks/FAKE_scale_0_num_img_1_fold_0.csv\")"
   ]
  },
  {
   "cell_type": "code",
   "execution_count": null,
   "metadata": {},
   "outputs": [],
   "source": [
    "df"
   ]
  },
  {
   "cell_type": "code",
   "execution_count": 37,
   "metadata": {},
   "outputs": [
    {
     "ename": "AttributeError",
     "evalue": "'str' object has no attribute 'value'",
     "output_type": "error",
     "traceback": [
      "\u001b[0;31m---------------------------------------------------------------------------\u001b[0m",
      "\u001b[0;31mAttributeError\u001b[0m                            Traceback (most recent call last)",
      "\u001b[0;32m<ipython-input-37-aef45e0e05b3>\u001b[0m in \u001b[0;36m<module>\u001b[0;34m\u001b[0m\n\u001b[0;32m----> 1\u001b[0;31m \u001b[0mdf\u001b[0m\u001b[0;34m[\u001b[0m\u001b[0;34m\"image_path\"\u001b[0m\u001b[0;34m]\u001b[0m\u001b[0;34m[\u001b[0m\u001b[0;36m0\u001b[0m\u001b[0;34m]\u001b[0m\u001b[0;34m.\u001b[0m\u001b[0mvalue\u001b[0m\u001b[0;34m\u001b[0m\u001b[0;34m\u001b[0m\u001b[0m\n\u001b[0m",
      "\u001b[0;31mAttributeError\u001b[0m: 'str' object has no attribute 'value'"
     ]
    }
   ],
   "source": [
    "df[\"image_path\"][0].value\n"
   ]
  },
  {
   "cell_type": "code",
   "execution_count": 34,
   "metadata": {},
   "outputs": [],
   "source": [
    "ddf =pd.DataFrame(columns=[\"image_path\", \"mask_path\"])"
   ]
  },
  {
   "cell_type": "code",
   "execution_count": 35,
   "metadata": {},
   "outputs": [
    {
     "data": {
      "text/html": [
       "<div>\n",
       "<style scoped>\n",
       "    .dataframe tbody tr th:only-of-type {\n",
       "        vertical-align: middle;\n",
       "    }\n",
       "\n",
       "    .dataframe tbody tr th {\n",
       "        vertical-align: top;\n",
       "    }\n",
       "\n",
       "    .dataframe thead th {\n",
       "        text-align: right;\n",
       "    }\n",
       "</style>\n",
       "<table border=\"1\" class=\"dataframe\">\n",
       "  <thead>\n",
       "    <tr style=\"text-align: right;\">\n",
       "      <th></th>\n",
       "      <th>image_path</th>\n",
       "      <th>mask_path</th>\n",
       "    </tr>\n",
       "  </thead>\n",
       "  <tbody>\n",
       "  </tbody>\n",
       "</table>\n",
       "</div>"
      ],
      "text/plain": [
       "Empty DataFrame\n",
       "Columns: [image_path, mask_path]\n",
       "Index: []"
      ]
     },
     "execution_count": 35,
     "metadata": {},
     "output_type": "execute_result"
    }
   ],
   "source": [
    "ddf"
   ]
  },
  {
   "cell_type": "code",
   "execution_count": 51,
   "metadata": {},
   "outputs": [],
   "source": [
    "ddf =ddf.append(df)"
   ]
  },
  {
   "cell_type": "code",
   "execution_count": 52,
   "metadata": {},
   "outputs": [
    {
     "data": {
      "text/html": [
       "<div>\n",
       "<style scoped>\n",
       "    .dataframe tbody tr th:only-of-type {\n",
       "        vertical-align: middle;\n",
       "    }\n",
       "\n",
       "    .dataframe tbody tr th {\n",
       "        vertical-align: top;\n",
       "    }\n",
       "\n",
       "    .dataframe thead th {\n",
       "        text-align: right;\n",
       "    }\n",
       "</style>\n",
       "<table border=\"1\" class=\"dataframe\">\n",
       "  <thead>\n",
       "    <tr style=\"text-align: right;\">\n",
       "      <th></th>\n",
       "      <th>image_path</th>\n",
       "      <th>mask_path</th>\n",
       "    </tr>\n",
       "  </thead>\n",
       "  <tbody>\n",
       "    <tr>\n",
       "      <th>0</th>\n",
       "      <td>/work/vajira/DATA/sinGAN_polyps/singan_out/chk...</td>\n",
       "      <td>/work/vajira/DATA/sinGAN_polyps/singan_out/chk...</td>\n",
       "    </tr>\n",
       "    <tr>\n",
       "      <th>1</th>\n",
       "      <td>/work/vajira/DATA/sinGAN_polyps/singan_out/chk...</td>\n",
       "      <td>/work/vajira/DATA/sinGAN_polyps/singan_out/chk...</td>\n",
       "    </tr>\n",
       "    <tr>\n",
       "      <th>2</th>\n",
       "      <td>/work/vajira/DATA/sinGAN_polyps/singan_out/chk...</td>\n",
       "      <td>/work/vajira/DATA/sinGAN_polyps/singan_out/chk...</td>\n",
       "    </tr>\n",
       "    <tr>\n",
       "      <th>3</th>\n",
       "      <td>/work/vajira/DATA/sinGAN_polyps/singan_out/chk...</td>\n",
       "      <td>/work/vajira/DATA/sinGAN_polyps/singan_out/chk...</td>\n",
       "    </tr>\n",
       "    <tr>\n",
       "      <th>4</th>\n",
       "      <td>/work/vajira/DATA/sinGAN_polyps/singan_out/chk...</td>\n",
       "      <td>/work/vajira/DATA/sinGAN_polyps/singan_out/chk...</td>\n",
       "    </tr>\n",
       "    <tr>\n",
       "      <th>...</th>\n",
       "      <td>...</td>\n",
       "      <td>...</td>\n",
       "    </tr>\n",
       "    <tr>\n",
       "      <th>329</th>\n",
       "      <td>/work/vajira/DATA/sinGAN_polyps/singan_out/chk...</td>\n",
       "      <td>/work/vajira/DATA/sinGAN_polyps/singan_out/chk...</td>\n",
       "    </tr>\n",
       "    <tr>\n",
       "      <th>330</th>\n",
       "      <td>/work/vajira/DATA/sinGAN_polyps/singan_out/chk...</td>\n",
       "      <td>/work/vajira/DATA/sinGAN_polyps/singan_out/chk...</td>\n",
       "    </tr>\n",
       "    <tr>\n",
       "      <th>331</th>\n",
       "      <td>/work/vajira/DATA/sinGAN_polyps/singan_out/chk...</td>\n",
       "      <td>/work/vajira/DATA/sinGAN_polyps/singan_out/chk...</td>\n",
       "    </tr>\n",
       "    <tr>\n",
       "      <th>332</th>\n",
       "      <td>/work/vajira/DATA/sinGAN_polyps/singan_out/chk...</td>\n",
       "      <td>/work/vajira/DATA/sinGAN_polyps/singan_out/chk...</td>\n",
       "    </tr>\n",
       "    <tr>\n",
       "      <th>333</th>\n",
       "      <td>/work/vajira/DATA/sinGAN_polyps/singan_out/chk...</td>\n",
       "      <td>/work/vajira/DATA/sinGAN_polyps/singan_out/chk...</td>\n",
       "    </tr>\n",
       "  </tbody>\n",
       "</table>\n",
       "<p>334 rows × 2 columns</p>\n",
       "</div>"
      ],
      "text/plain": [
       "                                            image_path  \\\n",
       "0    /work/vajira/DATA/sinGAN_polyps/singan_out/chk...   \n",
       "1    /work/vajira/DATA/sinGAN_polyps/singan_out/chk...   \n",
       "2    /work/vajira/DATA/sinGAN_polyps/singan_out/chk...   \n",
       "3    /work/vajira/DATA/sinGAN_polyps/singan_out/chk...   \n",
       "4    /work/vajira/DATA/sinGAN_polyps/singan_out/chk...   \n",
       "..                                                 ...   \n",
       "329  /work/vajira/DATA/sinGAN_polyps/singan_out/chk...   \n",
       "330  /work/vajira/DATA/sinGAN_polyps/singan_out/chk...   \n",
       "331  /work/vajira/DATA/sinGAN_polyps/singan_out/chk...   \n",
       "332  /work/vajira/DATA/sinGAN_polyps/singan_out/chk...   \n",
       "333  /work/vajira/DATA/sinGAN_polyps/singan_out/chk...   \n",
       "\n",
       "                                             mask_path  \n",
       "0    /work/vajira/DATA/sinGAN_polyps/singan_out/chk...  \n",
       "1    /work/vajira/DATA/sinGAN_polyps/singan_out/chk...  \n",
       "2    /work/vajira/DATA/sinGAN_polyps/singan_out/chk...  \n",
       "3    /work/vajira/DATA/sinGAN_polyps/singan_out/chk...  \n",
       "4    /work/vajira/DATA/sinGAN_polyps/singan_out/chk...  \n",
       "..                                                 ...  \n",
       "329  /work/vajira/DATA/sinGAN_polyps/singan_out/chk...  \n",
       "330  /work/vajira/DATA/sinGAN_polyps/singan_out/chk...  \n",
       "331  /work/vajira/DATA/sinGAN_polyps/singan_out/chk...  \n",
       "332  /work/vajira/DATA/sinGAN_polyps/singan_out/chk...  \n",
       "333  /work/vajira/DATA/sinGAN_polyps/singan_out/chk...  \n",
       "\n",
       "[334 rows x 2 columns]"
      ]
     },
     "execution_count": 52,
     "metadata": {},
     "output_type": "execute_result"
    }
   ],
   "source": [
    "ddf"
   ]
  },
  {
   "cell_type": "code",
   "execution_count": 54,
   "metadata": {},
   "outputs": [
    {
     "data": {
      "text/plain": [
       "'/work/vajira/DATA/sinGAN_polyps/singan_out/chk_id_1_gen_scale_0_0_img.png'"
      ]
     },
     "execution_count": 54,
     "metadata": {},
     "output_type": "execute_result"
    }
   ],
   "source": [
    "ddf[\"image_path\"][0]"
   ]
  },
  {
   "cell_type": "code",
   "execution_count": 57,
   "metadata": {},
   "outputs": [
    {
     "data": {
      "text/plain": [
       "'/work/vajira/DATA/sinGAN_polyps/singan_out/chk_id_1_gen_scale_0_0_img.png'"
      ]
     },
     "execution_count": 57,
     "metadata": {},
     "output_type": "execute_result"
    }
   ],
   "source": [
    "ddf.iloc[0,0]"
   ]
  },
  {
   "cell_type": "code",
   "execution_count": null,
   "metadata": {},
   "outputs": [],
   "source": []
  }
 ],
 "metadata": {
  "kernelspec": {
   "display_name": "pytorch18",
   "language": "python",
   "name": "pytorch18"
  },
  "language_info": {
   "codemirror_mode": {
    "name": "ipython",
    "version": 3
   },
   "file_extension": ".py",
   "mimetype": "text/x-python",
   "name": "python",
   "nbconvert_exporter": "python",
   "pygments_lexer": "ipython3",
   "version": "3.8.8"
  }
 },
 "nbformat": 4,
 "nbformat_minor": 4
}
