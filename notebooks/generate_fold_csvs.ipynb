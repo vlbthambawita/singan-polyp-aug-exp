{
 "cells": [
  {
   "cell_type": "code",
   "execution_count": 18,
   "metadata": {},
   "outputs": [],
   "source": [
    "import numpy as np\n",
    "import os\n",
    "import pandas as pd"
   ]
  },
  {
   "cell_type": "code",
   "execution_count": 19,
   "metadata": {},
   "outputs": [],
   "source": [
    "ids = [i for i in range(1,1001)]"
   ]
  },
  {
   "cell_type": "code",
   "execution_count": 20,
   "metadata": {},
   "outputs": [],
   "source": [
    "folds = np.array_split(ids, 3)"
   ]
  },
  {
   "cell_type": "code",
   "execution_count": 21,
   "metadata": {},
   "outputs": [
    {
     "data": {
      "text/plain": [
       "3"
      ]
     },
     "execution_count": 21,
     "metadata": {},
     "output_type": "execute_result"
    }
   ],
   "source": [
    "len(folds)"
   ]
  },
  {
   "cell_type": "code",
   "execution_count": 22,
   "metadata": {},
   "outputs": [],
   "source": [
    "img_dir = \"/work/vajira/DATA/sinGAN_polyps/singan_test_2/real_images\"\n",
    "mask_dir = \"/work/vajira/DATA/sinGAN_polyps/singan_test_2/real_masks\""
   ]
  },
  {
   "cell_type": "code",
   "execution_count": 25,
   "metadata": {},
   "outputs": [],
   "source": [
    "def make_df(img_dir, mask_dir, fold_ids):\n",
    "\n",
    "    df = pd.DataFrame(columns=[\"image_path\", \"mask_path\"])\n",
    "    \n",
    "    \n",
    "\n",
    "    for data_id in fold_ids:\n",
    "\n",
    "        img_path = os.path.join(img_dir, str(data_id) + \".jpg\")\n",
    "        mask_path = os.path.join(mask_dir, str(data_id) + \".jpg\")\n",
    "\n",
    "        if os.path.exists(img_path) and os.path.exists(mask_path):\n",
    "\n",
    "            df = df.append({\"image_path\": img_path,\n",
    "                            \"mask_path\": mask_path\n",
    "                            }, ignore_index=True)\n",
    "        else:\n",
    "            print(\"Found mismatch files\")\n",
    "            print(\"Image path=\", img_path)\n",
    "            print(\"mask_path\", mask_path)\n",
    "\n",
    "    return df"
   ]
  },
  {
   "cell_type": "code",
   "execution_count": 27,
   "metadata": {},
   "outputs": [],
   "source": [
    "df = make_df(img_dir, mask_dir, folds[0])"
   ]
  },
  {
   "cell_type": "code",
   "execution_count": 30,
   "metadata": {},
   "outputs": [],
   "source": [
    "df.to_csv(\"test.csv\",index=False, header=True  )"
   ]
  },
  {
   "cell_type": "code",
   "execution_count": null,
   "metadata": {},
   "outputs": [],
   "source": []
  }
 ],
 "metadata": {
  "kernelspec": {
   "display_name": "firstEnv",
   "language": "python",
   "name": "firstenv"
  },
  "language_info": {
   "codemirror_mode": {
    "name": "ipython",
    "version": 3
   },
   "file_extension": ".py",
   "mimetype": "text/x-python",
   "name": "python",
   "nbconvert_exporter": "python",
   "pygments_lexer": "ipython3",
   "version": "3.8.3"
  }
 },
 "nbformat": 4,
 "nbformat_minor": 4
}
